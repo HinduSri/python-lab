{
  "nbformat": 4,
  "nbformat_minor": 0,
  "metadata": {
    "colab": {
      "name": "19A21A0588-Hindu Sri",
      "provenance": [],
      "authorship_tag": "ABX9TyPDL4egv4Dub8j2vibvhLKx",
      "include_colab_link": true
    },
    "kernelspec": {
      "name": "python3",
      "display_name": "Python 3"
    },
    "language_info": {
      "name": "python"
    }
  },
  "cells": [
    {
      "cell_type": "markdown",
      "metadata": {
        "id": "view-in-github",
        "colab_type": "text"
      },
      "source": [
        "<a href=\"https://colab.research.google.com/github/HinduSri/python-lab/blob/main/19A21A0588_Hindu_Sri.ipynb\" target=\"_parent\"><img src=\"https://colab.research.google.com/assets/colab-badge.svg\" alt=\"Open In Colab\"/></a>"
      ]
    },
    {
      "cell_type": "markdown",
      "metadata": {
        "id": "RDbP7be9eNTD"
      },
      "source": [
        ""
      ]
    },
    {
      "cell_type": "markdown",
      "metadata": {
        "id": "sJ5I84a2eQPm"
      },
      "source": [
        " Name    : K. Hindu Sri\n",
        " \n",
        " \n",
        " Regno.  : 19A21A0588\n",
        " \n",
        " Section : CSE - B"
      ]
    },
    {
      "cell_type": "markdown",
      "metadata": {
        "id": "IUSRyryxe6Ab"
      },
      "source": [
        " EXERCISE-1 \n",
        " \n",
        "a)Write a program in interactive, interpreter, python script mode.\n",
        " \n",
        "b)Write a program to purposefully raise Indentation Error and Correct it."
      ]
    },
    {
      "cell_type": "code",
      "metadata": {
        "colab": {
          "base_uri": "https://localhost:8080/"
        },
        "id": "cYpC6SOMfBBu",
        "outputId": "91eefece-8d55-43da-fb3f-db2820f8ccc2"
      },
      "source": [
        " \n",
        "#1.A\n",
        "a=88\n",
        "b=99\n",
        "a,b=b,a\n",
        "print(a,b)"
      ],
      "execution_count": null,
      "outputs": [
        {
          "output_type": "stream",
          "text": [
            "99 88\n"
          ],
          "name": "stdout"
        }
      ]
    },
    {
      "cell_type": "code",
      "metadata": {
        "colab": {
          "base_uri": "https://localhost:8080/",
          "height": 164
        },
        "id": "8QXqWkyGb5eM",
        "outputId": "ab0dcc83-3b50-4445-9c0d-eb88057c6440"
      },
      "source": [
        "#1.B\n",
        "#program with Indentation Error\n",
        "a=10\n",
        "b=5\n",
        "if a>b :\n",
        "  print(\"a is big\")\n",
        "else :\n",
        "print(\"b is big\")"
      ],
      "execution_count": null,
      "outputs": [
        {
          "output_type": "error",
          "ename": "IndentationError",
          "evalue": "ignored",
          "traceback": [
            "\u001b[0;36m  File \u001b[0;32m\"<ipython-input-5-e387beff3ec3>\"\u001b[0;36m, line \u001b[0;32m8\u001b[0m\n\u001b[0;31m    print(\"b is big\")\u001b[0m\n\u001b[0m        ^\u001b[0m\n\u001b[0;31mIndentationError\u001b[0m\u001b[0;31m:\u001b[0m expected an indented block\n"
          ]
        }
      ]
    },
    {
      "cell_type": "code",
      "metadata": {
        "colab": {
          "base_uri": "https://localhost:8080/"
        },
        "id": "5VUuTifmck9Y",
        "outputId": "8899ab94-e5ea-4c3d-c9b0-84c6a0a05bfa"
      },
      "source": [
        " #1.B\n",
        "#program without Indentation Error\n",
        "a=10\n",
        "b=5\n",
        "if a>b :\n",
        "  print(\"a is big\")\n",
        "else :\n",
        "  print(\"b is big\")"
      ],
      "execution_count": null,
      "outputs": [
        {
          "output_type": "stream",
          "text": [
            "a is big\n"
          ],
          "name": "stdout"
        }
      ]
    },
    {
      "cell_type": "markdown",
      "metadata": {
        "id": "w30s9zqaf5tu"
      },
      "source": [
        " EXERCISE-2\n",
        " \n",
        "a)Compute distance between two points.\n",
        " \n",
        "b)Take two numbers on command line arguments and print the sum."
      ]
    },
    {
      "cell_type": "code",
      "metadata": {
        "colab": {
          "base_uri": "https://localhost:8080/"
        },
        "id": "Q2tSysyOgBBm",
        "outputId": "3a462d0a-7e61-4b78-c3c7-e08e9949ae46"
      },
      "source": [
        " \n",
        "#2.A-1\n",
        "#program to find distance between two points\n",
        "x1=10\n",
        "x2=50\n",
        "y1=12\n",
        "y2=20\n",
        "z=(pow((x2-x1),2)+pow((y2-y1),2))**0.5\n",
        "print(z)"
      ],
      "execution_count": null,
      "outputs": [
        {
          "output_type": "stream",
          "text": [
            "40.792156108742276\n"
          ],
          "name": "stdout"
        }
      ]
    },
    {
      "cell_type": "code",
      "metadata": {
        "colab": {
          "base_uri": "https://localhost:8080/"
        },
        "id": "_33JFZgkggz5",
        "outputId": "0a36daa8-a85b-4db6-dc37-7e47400324e9"
      },
      "source": [
        " \n",
        "#2.A-2\n",
        "#Program to find distance between two points\n",
        "import math\n",
        "x1=int(input(\"enter  x1 value:\"))\n",
        "x2=int(input(\"enter  x2 value:\"))\n",
        "y1=int(input(\"enter  y1 value:\"))\n",
        "y2=int(input(\"enter  y2 value:\"))\n",
        "z=math.sqrt((x2-x1)**2+(y2-y1)**2)\n",
        "print(\"the distance between two points is :\",z)\n",
        "print(\"the distance between two points is :\",z,sep='\\t')\n",
        "print(\"the distance between ({}, {})and ({},{}) is  :{}\".format(x1,y1,x2,y2,z))\n",
        " \n",
        "print(\"the distance between (%d, %d)and (%d,%d) is  :%f\"%(x1,y1,x2,y2,z))"
      ],
      "execution_count": null,
      "outputs": [
        {
          "output_type": "stream",
          "text": [
            "enter  x1 value:5\n",
            "enter  x2 value:3\n",
            "enter  y1 value:9\n",
            "enter  y2 value:1\n",
            "the distance between two points is : 8.246211251235321\n",
            "the distance between two points is :\t8.246211251235321\n",
            "the distance between (5, 9)and (3,1) is  :8.246211251235321\n",
            "the distance between (5, 9)and (3,1) is  :8.246211\n"
          ],
          "name": "stdout"
        }
      ]
    },
    {
      "cell_type": "code",
      "metadata": {
        "id": "G5zobKVpgw5k"
      },
      "source": [
        "#2.B\n",
        "#program to take inputs through command line and print their sum\n",
        " \n",
        "import sys\n",
        "a = int(sys.argv[1])\n",
        "b = int(sys.argv[2])\n",
        "sum=a+b\n",
        "print(\"Sum of two numbers is:\",sum)"
      ],
      "execution_count": null,
      "outputs": []
    },
    {
      "cell_type": "markdown",
      "metadata": {
        "id": "96SQH4EChNi_"
      },
      "source": [
        " EXERCISE-3 \n",
        " \n",
        "a) Write a Program for checking whether the given number is an even number or not.\n",
        " \n",
        "b) Using a for loop, write a program that prints out the decimal equivalents of 1/2, 1/3, 1/4, . . . . ., 1/10.\n",
        " \n",
        "c) Write a program using a for loop that loops over a sequence. What is sequence?\n",
        " \n",
        "d) Write a program using a while loop that asks the user for a number, and prints a countdown from that number to zero."
      ]
    },
    {
      "cell_type": "code",
      "metadata": {
        "colab": {
          "base_uri": "https://localhost:8080/"
        },
        "id": "uJ3Og-yYhWlD",
        "outputId": "afdecc6f-8582-4cc8-efec-2e92f7d9c3ce"
      },
      "source": [
        " \n",
        "#3.A\n",
        "#check the given number is even number or not\n",
        "n=int(input(\"enter a number:\"))\n",
        "if (n%2)==0:\n",
        "        print(\"given number is even\")\n",
        "else:\n",
        "      print(\"given number is odd\")"
      ],
      "execution_count": null,
      "outputs": [
        {
          "output_type": "stream",
          "text": [
            "enter a number:50\n",
            "given number is even\n"
          ],
          "name": "stdout"
        }
      ]
    },
    {
      "cell_type": "code",
      "metadata": {
        "colab": {
          "base_uri": "https://localhost:8080/"
        },
        "id": "wPaEwJkchiSP",
        "outputId": "de88c29e-781d-483a-9fe1-7c219d0d2d95"
      },
      "source": [
        " \n",
        "#3.B\n",
        "#program to print decimal equivalents of 1/2,1/3,...,1/10\n",
        "n=int(input(\"enter a number:\"))\n",
        "for i in range(2,n):\n",
        "    de=1/i;\n",
        "    print(\"1/\",i,\"=\",de)"
      ],
      "execution_count": null,
      "outputs": [
        {
          "output_type": "stream",
          "text": [
            "enter a number:10\n",
            "1/ 2 = 0.5\n",
            "1/ 3 = 0.3333333333333333\n",
            "1/ 4 = 0.25\n",
            "1/ 5 = 0.2\n",
            "1/ 6 = 0.16666666666666666\n",
            "1/ 7 = 0.14285714285714285\n",
            "1/ 8 = 0.125\n",
            "1/ 9 = 0.1111111111111111\n"
          ],
          "name": "stdout"
        }
      ]
    },
    {
      "cell_type": "code",
      "metadata": {
        "colab": {
          "base_uri": "https://localhost:8080/"
        },
        "id": "XuOf_y-2hqQ1",
        "outputId": "5bdd1a49-bbbd-4ea3-ab65-a4853045b053"
      },
      "source": [
        "\n",
        "#3.C\n",
        "#program using a for  loop that loops over a sequence\n",
        "#Number Sequence\n",
        "print(\"Number Sequence\")\n",
        "num=[45,2,6,7,9,-34,89]\n",
        "for i in num:\n",
        "    print(i)\n",
        " \n",
        "#String Sequence\n",
        "print(\"String Sequence\")\n",
        "days=[\"sun\",\"mon\",\"tue\",\"wed\",\"thu\",\"fri\",\"sat\"]\n",
        "for d in days:\n",
        "    print(d)\n",
        "    \n",
        "#both sequence\n",
        "print(\"Sequence\")\n",
        "arr=[4,\"abc\",-45,'C',10.5,True,5,10.6,\"xyz\"]\n",
        "for x in arr:\n",
        "      print(x)"
      ],
      "execution_count": null,
      "outputs": [
        {
          "output_type": "stream",
          "text": [
            "Number Sequence\n",
            "45\n",
            "2\n",
            "6\n",
            "7\n",
            "9\n",
            "-34\n",
            "89\n",
            "String Sequence\n",
            "sun\n",
            "mon\n",
            "tue\n",
            "wed\n",
            "thu\n",
            "fri\n",
            "sat\n",
            "Sequence\n",
            "4\n",
            "abc\n",
            "-45\n",
            "C\n",
            "10.5\n",
            "True\n",
            "5\n",
            "10.6\n",
            "xyz\n"
          ],
          "name": "stdout"
        }
      ]
    },
    {
      "cell_type": "code",
      "metadata": {
        "colab": {
          "base_uri": "https://localhost:8080/"
        },
        "id": "JGrOMGJjh9uk",
        "outputId": "eaf1d735-2935-4c41-8b3d-a8bdba6b634a"
      },
      "source": [
        "#3.D\n",
        "#countdown seq\n",
        "n=int(input(\"enter the number:\"))\n",
        "while n>=0:\n",
        "      print(n)\n",
        "      n=n-1"
      ],
      "execution_count": null,
      "outputs": [
        {
          "output_type": "stream",
          "text": [
            "enter the number:15\n",
            "15\n",
            "14\n",
            "13\n",
            "12\n",
            "11\n",
            "10\n",
            "9\n",
            "8\n",
            "7\n",
            "6\n",
            "5\n",
            "4\n",
            "3\n",
            "2\n",
            "1\n",
            "0\n"
          ],
          "name": "stdout"
        }
      ]
    },
    {
      "cell_type": "markdown",
      "metadata": {
        "id": "aPj4sNyJiCq-"
      },
      "source": [
        " EXERCISE-4 \n",
        " \n",
        "a) Find the sum of all the primes below two million. Each new term in the Fibonacci sequence is generated by adding the previous two .By starting with 1 and 2, the first 10 terms will be: 1, 2, 3, 5, 8, 13, 21, 34, 55, 89, ...\n",
        " \n",
        "b) By considering the terms in the Fibonacci Sequence whose values do not exceed four million,find the sum of the even-valued terms."
      ]
    },
    {
      "cell_type": "code",
      "metadata": {
        "id": "Z3YjgVMXkriy",
        "colab": {
          "base_uri": "https://localhost:8080/"
        },
        "outputId": "26575ca3-762f-48c7-89fa-8a75393cf856"
      },
      "source": [
        "#4.A\n",
        "n=int(input(\"enter a number:\"))\n",
        "c=0\n",
        "st=\" \"\n",
        "sum=0\n",
        " \n",
        "for i in range(2,n):\n",
        "   state=True\n",
        "   for j in range(2,i):\n",
        "      if(i%j==0):\n",
        "         state=False\n",
        "         break;\n",
        "   if state==True:\n",
        "         st+=\" \"+str(i)\n",
        "         c+=1\n",
        "         sum+=i\n",
        " \n",
        "print(\"Prime Numbers\")\n",
        "print(st)\n",
        " \n",
        "print(\"Total count of the prime numbers:\",c)\n",
        "print(\"Sum of all prime numbers:\",sum)"
      ],
      "execution_count": null,
      "outputs": [
        {
          "output_type": "stream",
          "text": [
            "enter a number:100\n",
            "Prime Numbers\n",
            "  2 3 5 7 11 13 17 19 23 29 31 37 41 43 47 53 59 61 67 71 73 79 83 89 97\n",
            "Total count of the prime numbers: 25\n",
            "Sum of all prime numbers: 1060\n"
          ],
          "name": "stdout"
        }
      ]
    },
    {
      "cell_type": "code",
      "metadata": {
        "colab": {
          "base_uri": "https://localhost:8080/"
        },
        "id": "5IFsd8SfjeCz",
        "outputId": "4401ea35-4cf7-46fc-9960-86021a649556"
      },
      "source": [
        "#4.B\n",
        "n=int(input(\"enter a number:\"))\n",
        "a=0\n",
        "b=1\n",
        "c=a+b\n",
        "sum=0\n",
        " \n",
        "print(\"even numbers in fibonnacci series is:\",end='')\n",
        "while c<=n:\n",
        "    if c%2==0:\n",
        "      print(c,end=' ')\n",
        "      sum+=c        \n",
        "    a=b\n",
        "    b=c \n",
        "    c=a+b\n",
        "print(\"\\nSum of fibonacci series is:\",sum)"
      ],
      "execution_count": null,
      "outputs": [
        {
          "output_type": "stream",
          "text": [
            "enter a number:10\n",
            "even numbers in fibonnacci series is:2 8 \n",
            "Sum of fibonacci series is: 10\n"
          ],
          "name": "stdout"
        }
      ]
    },
    {
      "cell_type": "markdown",
      "metadata": {
        "id": "ft9ldzAboK1d"
      },
      "source": [
        " EXERCISE-5\n",
        " \n",
        "DS\n",
        "\n",
        "a) Write a program to count the numbers of characters in the string and store them in a dictionary data structure\n",
        " \n",
        "b) Write a program to use split and join methods in the string and trace a birthday with a dictionary data structure."
      ]
    },
    {
      "cell_type": "code",
      "metadata": {
        "colab": {
          "base_uri": "https://localhost:8080/"
        },
        "id": "vmm-rkZ-oRcD",
        "outputId": "1eae1f0b-aef4-42d0-b0fe-5e1a77e0a33f"
      },
      "source": [
        "\n",
        "#5.A\n",
        "name=input(\"enter a name:\")\n",
        "dic={}\n",
        "for ch in name:\n",
        "    keys=dic.keys()\n",
        " \n",
        "    if(ch in keys):\n",
        "        dic[ch]=dic[ch]+1\n",
        "    else:\n",
        "        dic[ch]=1\n",
        " \n",
        "print(\"dictionary is:\",dic)"
      ],
      "execution_count": null,
      "outputs": [
        {
          "output_type": "stream",
          "text": [
            "enter a name:Hello\n",
            "dictionary is: {'H': 1, 'e': 1, 'l': 2, 'o': 1}\n"
          ],
          "name": "stdout"
        }
      ]
    },
    {
      "cell_type": "code",
      "metadata": {
        "id": "i4oMhUwUogir",
        "colab": {
          "base_uri": "https://localhost:8080/"
        },
        "outputId": "b52c9ad3-8b9f-432e-90d6-ec32be30e513"
      },
      "source": [
        "\n",
        "#5.B\n",
        "dob={\"sri\":\"14-05-2002\",\"sai\":\"14-04-2002\"}\n",
        "name=input(\"enter which person dob u want:\")\n",
        "l=name.split()\n",
        "birth=\"\"\n",
        "for i in l:\n",
        "    if i in dob.keys():\n",
        "        pers=i\n",
        " \n",
        "print(\"\".join([pers,\" birthday is :\",dob[pers]]))"
      ],
      "execution_count": null,
      "outputs": [
        {
          "output_type": "stream",
          "text": [
            "enter which person dob u want:sai\n",
            "sai birthday is :14-04-2002\n"
          ],
          "name": "stdout"
        }
      ]
    },
    {
      "cell_type": "markdown",
      "metadata": {
        "id": "HkWryspmqXAZ"
      },
      "source": [
        "EXERCISE-6 DS - Continued\n",
        " \n",
        "a) Write a program combine lists that combines these lists into a dictionary.\n",
        " \n",
        "b) Write a program to count frequency of characters in a given file. Can you use characterfrequency to tell whether the given file is a Python program file, C program file or a text file?"
      ]
    },
    {
      "cell_type": "code",
      "metadata": {
        "colab": {
          "base_uri": "https://localhost:8080/"
        },
        "id": "kQMNnwEfqX3G",
        "outputId": "fe10b249-d1b6-4761-ad6e-2245fe861cc9"
      },
      "source": [
        " \n",
        "#6.A\n",
        "sub=[\"daa\",\"os\",\"dbms\",\"p&s\",\"ppl\",\"se\"]\n",
        "marks=[85,96,75,65,83,56]\n",
        "print(sub)\n",
        "print(marks)\n",
        "dic=dict(zip(sub,marks))\n",
        "print(dic)"
      ],
      "execution_count": null,
      "outputs": [
        {
          "output_type": "stream",
          "text": [
            "['daa', 'os', 'dbms', 'p&s', 'ppl', 'se']\n",
            "[85, 96, 75, 65, 83, 56]\n",
            "{'daa': 85, 'os': 96, 'dbms': 75, 'p&s': 65, 'ppl': 83, 'se': 56}\n"
          ],
          "name": "stdout"
        }
      ]
    },
    {
      "cell_type": "markdown",
      "metadata": {
        "id": "qVg7XH4Ff3dL"
      },
      "source": [
        ""
      ]
    },
    {
      "cell_type": "code",
      "metadata": {
        "id": "mDIHCyQYqtMw"
      },
      "source": [
        " \n",
        "#6.B\n",
        "filetypes=['.py','.c','.txt']\n",
        "fn=input(\"enter a file name:\")\n",
        "f=open(fn,\"r\")\n",
        "count=dict()\n",
        "for  ft in filetypes:\n",
        "     if(ft in  fn):\n",
        "           if(ft=='.py'):\n",
        "             print(\"Python File\")\n",
        "           elif(ft=='.c'):\n",
        "             print(\"C File\")\n",
        "           elif(ft=='.txt'):\n",
        "             print(\"Text File\")\n",
        " \n",
        " \n",
        "for line in f:\n",
        "     for ch in line:\n",
        "          if ch in count:\n",
        "               count[ch]=count[ch]+1\n",
        " \n",
        "          else:\n",
        "              count[ch]=1\n",
        " \n",
        " \n",
        "print(count)\n",
        "f.close()"
      ],
      "execution_count": null,
      "outputs": []
    },
    {
      "cell_type": "markdown",
      "metadata": {
        "id": "l4pU9zh8euhE"
      },
      "source": [
        ""
      ]
    },
    {
      "cell_type": "markdown",
      "metadata": {
        "id": "XaSCTAIfqwgh"
      },
      "source": [
        " EXCERCISE-7\n",
        " \n",
        " Files\n",
        "\n",
        "a) Write a program to print each line of a file in reverse order.\n",
        " \n",
        "b) Write a program to compute the number of characters, words and lines in a file."
      ]
    },
    {
      "cell_type": "code",
      "metadata": {
        "id": "ootJgf7Fq0SS"
      },
      "source": [
        " \n",
        "#7.A\n",
        "obj=open(\"sam.txt\",\"r\")\n",
        "if obj:\n",
        "    st=obj.read()\n",
        "    print(\"file content is:\")\n",
        "obj.close()\n",
        "print()\n",
        "lines=st.split('\\n')\n",
        "for ln in lines:\n",
        "    i=len(ln)-1\n",
        "    while(i>=0):\n",
        "      print(ln[i],end='') \n",
        "      i=i-1\n",
        "    print()"
      ],
      "execution_count": null,
      "outputs": []
    },
    {
      "cell_type": "code",
      "metadata": {
        "id": "oPRZ9RXTq30O"
      },
      "source": [
        " \n",
        "#7.B\n",
        "obj=open(\"sam.txt\",\"r\")\n",
        "if obj:\n",
        "    st=obj.read()\n",
        "    print(\"file content is:\")\n",
        "obj.close()\n",
        "print()\n",
        "nc=nw=nl=0\n",
        "for ch in st:\n",
        "    if(ch):\n",
        "        nc=nc+1\n",
        "    if(ch==''):\n",
        "        nw=nw+1\n",
        "    if(ch=='\\n'):\n",
        "        nl=nl+1\n",
        " \n",
        "print(\"number of characters in a file:\",nc)\n",
        "print(\"number of words in file is:\",nw)\n",
        "print(\"number of lines ins file:\",nl)"
      ],
      "execution_count": null,
      "outputs": []
    },
    {
      "cell_type": "markdown",
      "metadata": {
        "id": "O3O3Yz5mq9A5"
      },
      "source": [
        " EXCERCISE-8\n",
        " \n",
        "Functions\n",
        " \n",
        "a) Write a function ball collide that takes two balls as parameters and computes if they are colliding. Your function should return a Boolean representing whether or not the balls are colliding. Hint: Represent a ball on a plane as a tuple of (x, y, r), r being the radius If (distance between two balls centers) <= (sum of their radii) then (they are colliding)\n",
        " \n",
        "b) Find mean, median, mode for the given set of numbers in a list."
      ]
    },
    {
      "cell_type": "code",
      "metadata": {
        "colab": {
          "base_uri": "https://localhost:8080/"
        },
        "id": "ZIo3aThHrFbF",
        "outputId": "8737eae9-0a8e-487c-b0d9-9f067ce8269b"
      },
      "source": [
        " \n",
        "#8.A\n",
        "import math\n",
        "def ballcollide(b1tup,b2tup):\n",
        "    x1=b1tup[0]\n",
        "    y1=b1tup[1]\n",
        "    x2=b2tup[0]\n",
        "    y2=b2tup[1]\n",
        "    r1=b1tup[2]\n",
        "    r2=b2tup[2]\n",
        " \n",
        " \n",
        "    d=math.sqrt((x2-x1)**2+(y2-y1)**2)\n",
        "    if(d<=r1+r2):\n",
        "      return True\n",
        "    else:\n",
        "        return False\n",
        " \n",
        " \n",
        "ball1=(1,2,3)\n",
        "ball2=(3,2,1)\n",
        "c=ballcollide(ball1,ball2)\n",
        "if(c):\n",
        "    print(\"balls are collided\")\n",
        "else:\n",
        "    print(\"ball are not collided\")"
      ],
      "execution_count": null,
      "outputs": [
        {
          "output_type": "stream",
          "text": [
            "balls are collided\n"
          ],
          "name": "stdout"
        }
      ]
    },
    {
      "cell_type": "code",
      "metadata": {
        "id": "g9I6MRC_rMJ2",
        "colab": {
          "base_uri": "https://localhost:8080/"
        },
        "outputId": "7298ca3e-ecf3-4c84-9746-f62de8f1b725"
      },
      "source": [
        " \n",
        "#8.B\n",
        "def list_mean(num_list):\n",
        "   return sum(num_list)/len(num_list) \n",
        " \n",
        "def list_median(num_list):\n",
        "    num_list.sort()\n",
        "    print(num_list)\n",
        "    n=len(num_list)\n",
        "    print(\"Total :\",n)\n",
        "    mid=n//2\n",
        "    print(\"Mid:\",mid)\n",
        "    if (n%2==1):\n",
        "        return num_list[mid]\n",
        "    else:\n",
        "        return (num_list[mid-1]+num_list[mid])/2\n",
        " \n",
        "def list_mode(num_list):\n",
        "    num_list.sort()\n",
        "    temp=[]\n",
        "    i=0\n",
        "    while i<len(num_list):\n",
        "        temp.append(num_list.count(num_list[i]))\n",
        "        i+=1\n",
        "    dic=dict(zip(num_list,temp))\n",
        "    mode={k for (k,v) in dic.items() if v==max(temp)}\n",
        "    return mode\n",
        " \n",
        "lst=[1,1,2,2,3,4,5,3,3]\n",
        " \n",
        "print(\"Given list is :\",lst)\n",
        "#print(\"Mean of given list:\",list_mean(lst))\n",
        "print(\"Median of given list:\",list_median(lst))\n",
        "print(\"Mode of given list:\",list_mode(lst))"
      ],
      "execution_count": null,
      "outputs": [
        {
          "output_type": "stream",
          "text": [
            "Given list is : [1, 1, 2, 2, 3, 4, 5, 3, 3]\n",
            "[1, 1, 2, 2, 3, 3, 3, 4, 5]\n",
            "Total : 9\n",
            "Mid: 4\n",
            "Median of given list: 3\n",
            "Mode of given list: {3}\n"
          ],
          "name": "stdout"
        }
      ]
    },
    {
      "cell_type": "markdown",
      "metadata": {
        "id": "dAgIT4O4r57F"
      },
      "source": [
        " EXERCISE - 9 Functions - Continued\n",
        " \n",
        "a) Write a function nearly equal to test whether two strings are nearly equal. Two strings a and bare nearly equal when a can be generated by a single mutation on b.\n",
        " \n",
        "b) Write a function dup to find all duplicates in the list.\n",
        " \n",
        "c) Write a function unique to find all the unique elements of a list."
      ]
    },
    {
      "cell_type": "code",
      "metadata": {
        "colab": {
          "base_uri": "https://localhost:8080/"
        },
        "id": "oHakKiwYr_c8",
        "outputId": "b89a62ef-8400-493d-d84a-81ff5314ca4b"
      },
      "source": [
        " \n",
        "#9.A\n",
        "def nearlyeq(str1,str2):\n",
        "    count=0\n",
        "    i=j=0\n",
        "    ss=0\n",
        "    while(i<len(str1)and j<len(str2)):\n",
        "        if(str1[i]!=str2[j]):\n",
        "            count+=1\n",
        "        if(len(str1)>len(str2)):\n",
        "            i+=1\n",
        " \n",
        "        elif(len(str1)==len(str2)):\n",
        "            pass\n",
        "        else:\n",
        "            i-=1     \n",
        "        if(count>1):\n",
        "             ss-=1\n",
        "             \n",
        "        i+=1\n",
        "        j+=1\n",
        "        if(count<2):\n",
        "             ss+=1\n",
        " \n",
        "    return ss\n",
        "s1=input(\"enter a string 1:\")\n",
        "s2=input(\"enter a string 2:\")\n",
        "t=nearlyeq(s1,s2)\n",
        "if(t>1):\n",
        "    print(\"Strings are nearly equal\")\n",
        "else:\n",
        "    print(\"Strings are not nearly equal\")"
      ],
      "execution_count": null,
      "outputs": [
        {
          "output_type": "stream",
          "text": [
            "enter a string 1:Hindi\n",
            "enter a string 2:Hindu\n",
            "Strings are nearly equal\n"
          ],
          "name": "stdout"
        }
      ]
    },
    {
      "cell_type": "code",
      "metadata": {
        "colab": {
          "base_uri": "https://localhost:8080/"
        },
        "id": "0icENGDhsgjj",
        "outputId": "f380c614-6467-4d3a-824f-14be4a0ac992"
      },
      "source": [
        "#9.B\n",
        "def dup(list):\n",
        "  list1=[]\n",
        "  for i in list:\n",
        "    count=list.count(i)\n",
        "    if(count>1 and (i not in list1)):\n",
        "        list1.append(i)\n",
        "        \n",
        "  print(\"The duplicates in the list are:\",list1)        \n",
        "list2=[1,2,1,2,5,9,7,5]\n",
        " \n",
        "dup(list2)"
      ],
      "execution_count": null,
      "outputs": [
        {
          "output_type": "stream",
          "text": [
            "The duplicates in the list are: [1, 2, 5]\n"
          ],
          "name": "stdout"
        }
      ]
    },
    {
      "cell_type": "code",
      "metadata": {
        "colab": {
          "base_uri": "https://localhost:8080/"
        },
        "id": "w_MGBSBisyf1",
        "outputId": "49c11796-57b2-4e6d-a1d9-87c3b2eb4d06"
      },
      "source": [
        "#9.C\n",
        "def unique(list1):\n",
        "  list2={}\n",
        " \n",
        "  for i in list1:\n",
        "    c=list1.count(i)\n",
        "    if c==1:\n",
        "      list2[i]=c\n",
        "  print(\"the unique elements in the list are:\",list2)\n",
        " \n",
        "list=[1,2,3,45,45,6,88,88,9]\n",
        "unique(list)"
      ],
      "execution_count": null,
      "outputs": [
        {
          "output_type": "stream",
          "text": [
            "the unique elements in the list are: {1: 1, 2: 1, 3: 1, 6: 1, 9: 1}\n"
          ],
          "name": "stdout"
        }
      ]
    },
    {
      "cell_type": "markdown",
      "metadata": {
        "id": "IU6UxDg9tDCm"
      },
      "source": [
        "EXERCISE - 10 - Functions - Problem Solving\n",
        " \n",
        "a) Write a function cumulative product to compute cumulative product of a list of numbers.\n",
        " \n",
        "b) Write a function reverse to reverse a list. Without using the reverse function.\n",
        " \n",
        "c) Write function to compute gcd, lcm of two numbers. Each function shouldn’t exceed one line"
      ]
    },
    {
      "cell_type": "code",
      "metadata": {
        "id": "xrW33PqltGcJ",
        "colab": {
          "base_uri": "https://localhost:8080/"
        },
        "outputId": "86076e9b-317a-4452-c7f3-10f00dcc3acc"
      },
      "source": [
        "\n",
        "#10.A\n",
        "def cum_prod(numlist):\n",
        "    prod=1\n",
        "    temp=[]\n",
        "   \n",
        "    for i in numlist:\n",
        "        prod*=i\n",
        "        temp.append(prod)\n",
        "    return temp\n",
        "lst=[1,2,4,5,3]\n",
        " \n",
        "print(\"Given list is :\",lst)\n",
        "print(\"Cumulative Product List is :\",cum_prod(lst))"
      ],
      "execution_count": null,
      "outputs": [
        {
          "output_type": "stream",
          "text": [
            "Given list is : [1, 2, 4, 5, 3]\n",
            "Cumulative Product List is : [1, 2, 8, 40, 120]\n"
          ],
          "name": "stdout"
        }
      ]
    },
    {
      "cell_type": "code",
      "metadata": {
        "colab": {
          "base_uri": "https://localhost:8080/"
        },
        "id": "S_C53Szbtbmu",
        "outputId": "90422c44-d09b-4afa-b7e6-ff5922aee0e7"
      },
      "source": [
        " \n",
        "#10.B\n",
        "def reverse_list(numlist):\n",
        "    i=0\n",
        "    j=len(numlist)-1\n",
        "    while (i<=j):\n",
        "      temp=numlist[i]\n",
        "      numlist[i]=numlist[j]\n",
        "      numlist[j]=temp\n",
        "      j-=1\n",
        "      i+=1\n",
        "    return numlist\n",
        "list1=[1,2,3,4]\n",
        "print(\"Given list is :\",list1)\n",
        "print(\"After Reverse Function:\",reverse_list(list1))\n",
        "print(\"After list is:\",list1)"
      ],
      "execution_count": null,
      "outputs": [
        {
          "output_type": "stream",
          "text": [
            "Given list is : [1, 2, 3, 4]\n",
            "After Reverse Function: [4, 3, 2, 1]\n",
            "After list is: [4, 3, 2, 1]\n"
          ],
          "name": "stdout"
        }
      ]
    },
    {
      "cell_type": "code",
      "metadata": {
        "colab": {
          "base_uri": "https://localhost:8080/"
        },
        "id": "EBIb-ZY5tu9Y",
        "outputId": "60b5d8c8-0260-41c5-8c82-790e77a160d9"
      },
      "source": [
        " \n",
        "#10.C\n",
        "gcd=lambda a,b: a if b==0 else gcd(a,a%b)\n",
        "lcm=lambda a,b: (a*b)/gcd(a,b)\n",
        " \n",
        "x=4\n",
        "y=24\n",
        "print(\"gcd=\",gcd(x,y))\n",
        "print(\"lcm=\",lcm(x,y))"
      ],
      "execution_count": null,
      "outputs": [
        {
          "output_type": "stream",
          "text": [
            "gcd= 4\n",
            "lcm= 24.0\n"
          ],
          "name": "stdout"
        }
      ]
    }
  ]
}
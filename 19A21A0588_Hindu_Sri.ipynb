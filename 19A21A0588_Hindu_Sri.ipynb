{
  "nbformat": 4,
  "nbformat_minor": 0,
  "metadata": {
    "colab": {
      "name": "19A21A0588-Hindu Sri",
      "provenance": [],
      "authorship_tag": "ABX9TyMP+s7ebK+GWeyyRuRNjrRw",
      "include_colab_link": true
    },
    "kernelspec": {
      "name": "python3",
      "display_name": "Python 3"
    },
    "language_info": {
      "name": "python"
    }
  },
  "cells": [
    {
      "cell_type": "markdown",
      "metadata": {
        "id": "view-in-github",
        "colab_type": "text"
      },
      "source": [
        "<a href=\"https://colab.research.google.com/github/HinduSri/python-lab/blob/main/19A21A0588_Hindu_Sri.ipynb\" target=\"_parent\"><img src=\"https://colab.research.google.com/assets/colab-badge.svg\" alt=\"Open In Colab\"/></a>"
      ]
    },
    {
      "cell_type": "markdown",
      "metadata": {
        "id": "sJ5I84a2eQPm"
      },
      "source": [
        " Name    : K. Hindu Sri\n",
        " \n",
        " \n",
        " Regno.  : 19A21A0588\n",
        " \n",
        " Section : CSE - B"
      ]
    },
    {
      "cell_type": "markdown",
      "metadata": {
        "id": "IUSRyryxe6Ab"
      },
      "source": [
        " EXERCISE-1 \n",
        " \n",
        "a)Write a program in interactive, interpreter, python script mode.\n",
        " \n",
        "b)Write a program to purposefully raise Indentation Error and Correct it."
      ]
    },
    {
      "cell_type": "code",
      "metadata": {
        "colab": {
          "base_uri": "https://localhost:8080/"
        },
        "id": "cYpC6SOMfBBu",
        "outputId": "91eefece-8d55-43da-fb3f-db2820f8ccc2"
      },
      "source": [
        " \n",
        "#1.A\n",
        "a=88\n",
        "b=99\n",
        "a,b=b,a\n",
        "print(a,b)"
      ],
      "execution_count": null,
      "outputs": [
        {
          "output_type": "stream",
          "text": [
            "99 88\n"
          ],
          "name": "stdout"
        }
      ]
    },
    {
      "cell_type": "code",
      "metadata": {
        "colab": {
          "base_uri": "https://localhost:8080/",
          "height": 164
        },
        "id": "8QXqWkyGb5eM",
        "outputId": "ab0dcc83-3b50-4445-9c0d-eb88057c6440"
      },
      "source": [
        "#1.B\n",
        "#program with Indentation Error\n",
        "a=10\n",
        "b=5\n",
        "if a>b :\n",
        "  print(\"a is big\")\n",
        "else :\n",
        "print(\"b is big\")"
      ],
      "execution_count": null,
      "outputs": [
        {
          "output_type": "error",
          "ename": "IndentationError",
          "evalue": "ignored",
          "traceback": [
            "\u001b[0;36m  File \u001b[0;32m\"<ipython-input-5-e387beff3ec3>\"\u001b[0;36m, line \u001b[0;32m8\u001b[0m\n\u001b[0;31m    print(\"b is big\")\u001b[0m\n\u001b[0m        ^\u001b[0m\n\u001b[0;31mIndentationError\u001b[0m\u001b[0;31m:\u001b[0m expected an indented block\n"
          ]
        }
      ]
    },
    {
      "cell_type": "code",
      "metadata": {
        "colab": {
          "base_uri": "https://localhost:8080/"
        },
        "id": "5VUuTifmck9Y",
        "outputId": "8899ab94-e5ea-4c3d-c9b0-84c6a0a05bfa"
      },
      "source": [
        " #1.B\n",
        "#program without Indentation Error\n",
        "a=10\n",
        "b=5\n",
        "if a>b :\n",
        "  print(\"a is big\")\n",
        "else :\n",
        "  print(\"b is big\")"
      ],
      "execution_count": null,
      "outputs": [
        {
          "output_type": "stream",
          "text": [
            "a is big\n"
          ],
          "name": "stdout"
        }
      ]
    },
    {
      "cell_type": "markdown",
      "metadata": {
        "id": "w30s9zqaf5tu"
      },
      "source": [
        " EXERCISE-2\n",
        " \n",
        "a)Compute distance between two points.\n",
        " \n",
        "b)Take two numbers on command line arguments and print the sum."
      ]
    },
    {
      "cell_type": "code",
      "metadata": {
        "colab": {
          "base_uri": "https://localhost:8080/"
        },
        "id": "Q2tSysyOgBBm",
        "outputId": "3a462d0a-7e61-4b78-c3c7-e08e9949ae46"
      },
      "source": [
        " \n",
        "#2.A-1\n",
        "#program to find distance between two points\n",
        "x1=10\n",
        "x2=50\n",
        "y1=12\n",
        "y2=20\n",
        "z=(pow((x2-x1),2)+pow((y2-y1),2))**0.5\n",
        "print(z)"
      ],
      "execution_count": null,
      "outputs": [
        {
          "output_type": "stream",
          "text": [
            "40.792156108742276\n"
          ],
          "name": "stdout"
        }
      ]
    },
    {
      "cell_type": "code",
      "metadata": {
        "colab": {
          "base_uri": "https://localhost:8080/"
        },
        "id": "_33JFZgkggz5",
        "outputId": "0a36daa8-a85b-4db6-dc37-7e47400324e9"
      },
      "source": [
        " \n",
        "#2.A-2\n",
        "#Program to find distance between two points\n",
        "import math\n",
        "x1=int(input(\"enter  x1 value:\"))\n",
        "x2=int(input(\"enter  x2 value:\"))\n",
        "y1=int(input(\"enter  y1 value:\"))\n",
        "y2=int(input(\"enter  y2 value:\"))\n",
        "z=math.sqrt((x2-x1)**2+(y2-y1)**2)\n",
        "print(\"the distance between two points is :\",z)\n",
        "print(\"the distance between two points is :\",z,sep='\\t')\n",
        "print(\"the distance between ({}, {})and ({},{}) is  :{}\".format(x1,y1,x2,y2,z))\n",
        " \n",
        "print(\"the distance between (%d, %d)and (%d,%d) is  :%f\"%(x1,y1,x2,y2,z))"
      ],
      "execution_count": null,
      "outputs": [
        {
          "output_type": "stream",
          "text": [
            "enter  x1 value:5\n",
            "enter  x2 value:3\n",
            "enter  y1 value:9\n",
            "enter  y2 value:1\n",
            "the distance between two points is : 8.246211251235321\n",
            "the distance between two points is :\t8.246211251235321\n",
            "the distance between (5, 9)and (3,1) is  :8.246211251235321\n",
            "the distance between (5, 9)and (3,1) is  :8.246211\n"
          ],
          "name": "stdout"
        }
      ]
    },
    {
      "cell_type": "code",
      "metadata": {
        "id": "G5zobKVpgw5k"
      },
      "source": [
        "#2.B\n",
        "#program to take inputs through command line and print their sum\n",
        " \n",
        "import sys\n",
        "a = int(sys.argv[1])\n",
        "b = int(sys.argv[2])\n",
        "sum=a+b\n",
        "print(\"Sum of two numbers is:\",sum)"
      ],
      "execution_count": null,
      "outputs": []
    },
    {
      "cell_type": "markdown",
      "metadata": {
        "id": "96SQH4EChNi_"
      },
      "source": [
        " EXERCISE-3 \n",
        " \n",
        "a) Write a Program for checking whether the given number is an even number or not.\n",
        " \n",
        "b) Using a for loop, write a program that prints out the decimal equivalents of 1/2, 1/3, 1/4, . . . . ., 1/10.\n",
        " \n",
        "c) Write a program using a for loop that loops over a sequence. What is sequence?\n",
        " \n",
        "d) Write a program using a while loop that asks the user for a number, and prints a countdown from that number to zero."
      ]
    },
    {
      "cell_type": "code",
      "metadata": {
        "colab": {
          "base_uri": "https://localhost:8080/"
        },
        "id": "uJ3Og-yYhWlD",
        "outputId": "afdecc6f-8582-4cc8-efec-2e92f7d9c3ce"
      },
      "source": [
        " \n",
        "#3.A\n",
        "#check the given number is even number or not\n",
        "n=int(input(\"enter a number:\"))\n",
        "if (n%2)==0:\n",
        "        print(\"given number is even\")\n",
        "else:\n",
        "      print(\"given number is odd\")"
      ],
      "execution_count": null,
      "outputs": [
        {
          "output_type": "stream",
          "text": [
            "enter a number:50\n",
            "given number is even\n"
          ],
          "name": "stdout"
        }
      ]
    },
    {
      "cell_type": "code",
      "metadata": {
        "colab": {
          "base_uri": "https://localhost:8080/"
        },
        "id": "wPaEwJkchiSP",
        "outputId": "de88c29e-781d-483a-9fe1-7c219d0d2d95"
      },
      "source": [
        " \n",
        "#3.B\n",
        "#program to print decimal equivalents of 1/2,1/3,...,1/10\n",
        "n=int(input(\"enter a number:\"))\n",
        "for i in range(2,n):\n",
        "    de=1/i;\n",
        "    print(\"1/\",i,\"=\",de)"
      ],
      "execution_count": null,
      "outputs": [
        {
          "output_type": "stream",
          "text": [
            "enter a number:10\n",
            "1/ 2 = 0.5\n",
            "1/ 3 = 0.3333333333333333\n",
            "1/ 4 = 0.25\n",
            "1/ 5 = 0.2\n",
            "1/ 6 = 0.16666666666666666\n",
            "1/ 7 = 0.14285714285714285\n",
            "1/ 8 = 0.125\n",
            "1/ 9 = 0.1111111111111111\n"
          ],
          "name": "stdout"
        }
      ]
    },
    {
      "cell_type": "code",
      "metadata": {
        "colab": {
          "base_uri": "https://localhost:8080/"
        },
        "id": "XuOf_y-2hqQ1",
        "outputId": "5bdd1a49-bbbd-4ea3-ab65-a4853045b053"
      },
      "source": [
        "\n",
        "#3.C\n",
        "#program using a for  loop that loops over a sequence\n",
        "#Number Sequence\n",
        "print(\"Number Sequence\")\n",
        "num=[45,2,6,7,9,-34,89]\n",
        "for i in num:\n",
        "    print(i)\n",
        " \n",
        "#String Sequence\n",
        "print(\"String Sequence\")\n",
        "days=[\"sun\",\"mon\",\"tue\",\"wed\",\"thu\",\"fri\",\"sat\"]\n",
        "for d in days:\n",
        "    print(d)\n",
        "    \n",
        "#both sequence\n",
        "print(\"Sequence\")\n",
        "arr=[4,\"abc\",-45,'C',10.5,True,5,10.6,\"xyz\"]\n",
        "for x in arr:\n",
        "      print(x)"
      ],
      "execution_count": null,
      "outputs": [
        {
          "output_type": "stream",
          "text": [
            "Number Sequence\n",
            "45\n",
            "2\n",
            "6\n",
            "7\n",
            "9\n",
            "-34\n",
            "89\n",
            "String Sequence\n",
            "sun\n",
            "mon\n",
            "tue\n",
            "wed\n",
            "thu\n",
            "fri\n",
            "sat\n",
            "Sequence\n",
            "4\n",
            "abc\n",
            "-45\n",
            "C\n",
            "10.5\n",
            "True\n",
            "5\n",
            "10.6\n",
            "xyz\n"
          ],
          "name": "stdout"
        }
      ]
    },
    {
      "cell_type": "code",
      "metadata": {
        "colab": {
          "base_uri": "https://localhost:8080/"
        },
        "id": "JGrOMGJjh9uk",
        "outputId": "eaf1d735-2935-4c41-8b3d-a8bdba6b634a"
      },
      "source": [
        "#3.D\n",
        "#countdown seq\n",
        "n=int(input(\"enter the number:\"))\n",
        "while n>=0:\n",
        "      print(n)\n",
        "      n=n-1"
      ],
      "execution_count": null,
      "outputs": [
        {
          "output_type": "stream",
          "text": [
            "enter the number:15\n",
            "15\n",
            "14\n",
            "13\n",
            "12\n",
            "11\n",
            "10\n",
            "9\n",
            "8\n",
            "7\n",
            "6\n",
            "5\n",
            "4\n",
            "3\n",
            "2\n",
            "1\n",
            "0\n"
          ],
          "name": "stdout"
        }
      ]
    },
    {
      "cell_type": "markdown",
      "metadata": {
        "id": "aPj4sNyJiCq-"
      },
      "source": [
        " EXERCISE-4 \n",
        " \n",
        "a) Find the sum of all the primes below two million. Each new term in the Fibonacci sequence is generated by adding the previous two .By starting with 1 and 2, the first 10 terms will be: 1, 2, 3, 5, 8, 13, 21, 34, 55, 89, ...\n",
        " \n",
        "b) By considering the terms in the Fibonacci Sequence whose values do not exceed four million,find the sum of the even-valued terms."
      ]
    },
    {
      "cell_type": "code",
      "metadata": {
        "id": "Z3YjgVMXkriy",
        "colab": {
          "base_uri": "https://localhost:8080/"
        },
        "outputId": "e0ad075c-dcbf-4db8-b736-7f21d7c199dd"
      },
      "source": [
        " \n",
        " \n",
        "#4.A\n",
        "n=int(input(\"enter a number:\"))\n",
        "c=0\n",
        "st=\" \"\n",
        "sum=0\n",
        " \n",
        "for i in range(2,n):\n",
        "   state=True\n",
        "   for j in range(2,i):\n",
        "      if(i%j==0):\n",
        "         state=False\n",
        "         break\n",
        "   if state==True:\n",
        "         st+=\" \"+str(i)\n",
        "         c+=1\n",
        "         sum+=i\n",
        " \n",
        "print(\"Prime Numbers\")\n",
        "print(st)\n",
        " \n",
        "print(\"Total count of the prime numbers:\",c)\n",
        "print(\"Sum of all prime numbers:\",sum)"
      ],
      "execution_count": null,
      "outputs": [
        {
          "output_type": "stream",
          "text": [
            "enter a number:100\n",
            "Prime Numbers\n",
            "  2 3 5 7 11 13 17 19 23 29 31 37 41 43 47 53 59 61 67 71 73 79 83 89 97\n",
            "Total count of the prime numbers: 25\n",
            "Sum of all prime numbers: 1060\n"
          ],
          "name": "stdout"
        }
      ]
    },
    {
      "cell_type": "code",
      "metadata": {
        "colab": {
          "base_uri": "https://localhost:8080/"
        },
        "id": "5IFsd8SfjeCz",
        "outputId": "4401ea35-4cf7-46fc-9960-86021a649556"
      },
      "source": [
        "#4.B\n",
        "n=int(input(\"enter a number:\"))\n",
        "a=0\n",
        "b=1\n",
        "c=a+b\n",
        "sum=0\n",
        " \n",
        "print(\"even numbers in fibonnacci series is:\",end='')\n",
        "while c<=n:\n",
        "    if c%2==0:\n",
        "      print(c,end=' ')\n",
        "      sum+=c        \n",
        "    a=b\n",
        "    b=c \n",
        "    c=a+b\n",
        "print(\"\\nSum of fibonacci series is:\",sum)"
      ],
      "execution_count": null,
      "outputs": [
        {
          "output_type": "stream",
          "text": [
            "enter a number:10\n",
            "even numbers in fibonnacci series is:2 8 \n",
            "Sum of fibonacci series is: 10\n"
          ],
          "name": "stdout"
        }
      ]
    },
    {
      "cell_type": "markdown",
      "metadata": {
        "id": "ft9ldzAboK1d"
      },
      "source": [
        " EXERCISE-5\n",
        " \n",
        "DS\n",
        "\n",
        "a) Write a program to count the numbers of characters in the string and store them in a dictionary data structure\n",
        " \n",
        "b) Write a program to use split and join methods in the string and trace a birthday with a dictionary data structure."
      ]
    },
    {
      "cell_type": "code",
      "metadata": {
        "colab": {
          "base_uri": "https://localhost:8080/"
        },
        "id": "vmm-rkZ-oRcD",
        "outputId": "1eae1f0b-aef4-42d0-b0fe-5e1a77e0a33f"
      },
      "source": [
        "\n",
        "#5.A\n",
        "name=input(\"enter a name:\")\n",
        "dic={}\n",
        "for ch in name:\n",
        "    keys=dic.keys()\n",
        " \n",
        "    if(ch in keys):\n",
        "        dic[ch]=dic[ch]+1\n",
        "    else:\n",
        "        dic[ch]=1\n",
        " \n",
        "print(\"dictionary is:\",dic)"
      ],
      "execution_count": null,
      "outputs": [
        {
          "output_type": "stream",
          "text": [
            "enter a name:Hello\n",
            "dictionary is: {'H': 1, 'e': 1, 'l': 2, 'o': 1}\n"
          ],
          "name": "stdout"
        }
      ]
    },
    {
      "cell_type": "code",
      "metadata": {
        "id": "i4oMhUwUogir",
        "colab": {
          "base_uri": "https://localhost:8080/"
        },
        "outputId": "b52c9ad3-8b9f-432e-90d6-ec32be30e513"
      },
      "source": [
        " \n",
        "#5.B \n",
        "dob={\"sri\":\"14-05-2002\",\"sai\":\"14-04-2002\"}\n",
        "name=input(\"enter which person dob u want:\")\n",
        "l=name.split()\n",
        "birth=\"\"\n",
        "for i in l:\n",
        "    if i in dob.keys():\n",
        "        pers=i\n",
        " \n",
        "print(\"\".join([pers,\" birthday is :\",dob[pers]]))"
      ],
      "execution_count": null,
      "outputs": [
        {
          "output_type": "stream",
          "text": [
            "enter which person dob u want:sai\n",
            "sai birthday is :14-04-2002\n"
          ],
          "name": "stdout"
        }
      ]
    },
    {
      "cell_type": "markdown",
      "metadata": {
        "id": "HkWryspmqXAZ"
      },
      "source": [
        "EXERCISE-6 DS - Continued\n",
        " \n",
        "a) Write a program combine lists that combines these lists into a dictionary.\n",
        " \n",
        "b) Write a program to count frequency of characters in a given file. Can you use characterfrequency to tell whether the given file is a Python program file, C program file or a text file?"
      ]
    },
    {
      "cell_type": "code",
      "metadata": {
        "colab": {
          "base_uri": "https://localhost:8080/"
        },
        "id": "kQMNnwEfqX3G",
        "outputId": "fe10b249-d1b6-4761-ad6e-2245fe861cc9"
      },
      "source": [
        " \n",
        "#6.A\n",
        "sub=[\"daa\",\"os\",\"dbms\",\"p&s\",\"ppl\",\"se\"]\n",
        "marks=[85,96,75,65,83,56]\n",
        "print(sub)\n",
        "print(marks)\n",
        "dic=dict(zip(sub,marks))\n",
        "print(dic)"
      ],
      "execution_count": null,
      "outputs": [
        {
          "output_type": "stream",
          "text": [
            "['daa', 'os', 'dbms', 'p&s', 'ppl', 'se']\n",
            "[85, 96, 75, 65, 83, 56]\n",
            "{'daa': 85, 'os': 96, 'dbms': 75, 'p&s': 65, 'ppl': 83, 'se': 56}\n"
          ],
          "name": "stdout"
        }
      ]
    },
    {
      "cell_type": "code",
      "metadata": {
        "id": "mDIHCyQYqtMw"
      },
      "source": [
        " \n",
        "#6.B\n",
        "filetypes=['.py','.c','.txt']\n",
        "fn=input(\"enter a file name:\")\n",
        "f=open(fn,\"r\")\n",
        "count=dict()\n",
        "for  ft in filetypes:\n",
        "     if(ft in  fn):\n",
        "           if(ft=='.py'):\n",
        "             print(\"Python File\")\n",
        "           elif(ft=='.c'):\n",
        "             print(\"C File\")\n",
        "           elif(ft=='.txt'):\n",
        "             print(\"Text File\")\n",
        " \n",
        " \n",
        "for line in f:\n",
        "     for ch in line:\n",
        "          if ch in count:\n",
        "               count[ch]=count[ch]+1\n",
        " \n",
        "          else:\n",
        "              count[ch]=1\n",
        " \n",
        " \n",
        "print(count)\n",
        "f.close()"
      ],
      "execution_count": null,
      "outputs": []
    },
    {
      "cell_type": "markdown",
      "metadata": {
        "id": "XaSCTAIfqwgh"
      },
      "source": [
        " EXCERCISE-7\n",
        " \n",
        " Files\n",
        "\n",
        "a) Write a program to print each line of a file in reverse order.\n",
        " \n",
        "b) Write a program to compute the number of characters, words and lines in a file."
      ]
    },
    {
      "cell_type": "code",
      "metadata": {
        "id": "ootJgf7Fq0SS"
      },
      "source": [
        " \n",
        "#7.A\n",
        "obj=open(\"sam.txt\",\"r\")\n",
        "if obj:\n",
        "    st=obj.read()\n",
        "    print(\"file content is:\")\n",
        "obj.close()\n",
        "print()\n",
        "lines=st.split('\\n')\n",
        "for ln in lines:\n",
        "    i=len(ln)-1\n",
        "    while(i>=0):\n",
        "      print(ln[i],end='') \n",
        "      i=i-1\n",
        "    print()"
      ],
      "execution_count": null,
      "outputs": []
    },
    {
      "cell_type": "code",
      "metadata": {
        "id": "oPRZ9RXTq30O"
      },
      "source": [
        " \n",
        "#7.B\n",
        "obj=open(\"sam.txt\",\"r\")\n",
        "if obj:\n",
        "    st=obj.read()\n",
        "    print(\"file content is:\")\n",
        "obj.close()\n",
        "print()\n",
        "nc=nw=nl=0\n",
        "for ch in st:\n",
        "    if(ch):\n",
        "        nc=nc+1\n",
        "    if(ch==''):\n",
        "        nw=nw+1\n",
        "    if(ch=='\\n'):\n",
        "        nl=nl+1\n",
        " \n",
        "print(\"number of characters in a file:\",nc)\n",
        "print(\"number of words in a file is:\",nw)\n",
        "print(\"number of lines in a file:\",nl)"
      ],
      "execution_count": null,
      "outputs": []
    },
    {
      "cell_type": "markdown",
      "metadata": {
        "id": "O3O3Yz5mq9A5"
      },
      "source": [
        " EXCERCISE-8\n",
        " \n",
        "Functions\n",
        " \n",
        "a) Write a function ball collide that takes two balls as parameters and computes if they are colliding. Your function should return a Boolean representing whether or not the balls are colliding. Hint: Represent a ball on a plane as a tuple of (x, y, r), r being the radius If (distance between two balls centers) <= (sum of their radii) then (they are colliding)\n",
        " \n",
        "b) Find mean, median, mode for the given set of numbers in a list."
      ]
    },
    {
      "cell_type": "code",
      "metadata": {
        "colab": {
          "base_uri": "https://localhost:8080/"
        },
        "id": "ZIo3aThHrFbF",
        "outputId": "8737eae9-0a8e-487c-b0d9-9f067ce8269b"
      },
      "source": [
        " \n",
        "#8.A\n",
        "import math\n",
        "def ballcollide(b1tup,b2tup):\n",
        "    x1=b1tup[0]\n",
        "    y1=b1tup[1]\n",
        "    x2=b2tup[0]\n",
        "    y2=b2tup[1]\n",
        "    r1=b1tup[2]\n",
        "    r2=b2tup[2]\n",
        " \n",
        " \n",
        "    d=math.sqrt((x2-x1)**2+(y2-y1)**2)\n",
        "    if(d<=r1+r2):\n",
        "      return True\n",
        "    else:\n",
        "        return False\n",
        " \n",
        " \n",
        "ball1=(1,2,3)\n",
        "ball2=(3,2,1)\n",
        "c=ballcollide(ball1,ball2)\n",
        "if(c):\n",
        "    print(\"balls are collided\")\n",
        "else:\n",
        "    print(\"ball are not collided\")"
      ],
      "execution_count": null,
      "outputs": [
        {
          "output_type": "stream",
          "text": [
            "balls are collided\n"
          ],
          "name": "stdout"
        }
      ]
    },
    {
      "cell_type": "code",
      "metadata": {
        "id": "g9I6MRC_rMJ2",
        "colab": {
          "base_uri": "https://localhost:8080/"
        },
        "outputId": "7298ca3e-ecf3-4c84-9746-f62de8f1b725"
      },
      "source": [
        " \n",
        "#8.B\n",
        "def list_mean(num_list):\n",
        "   return sum(num_list)/len(num_list) \n",
        " \n",
        "def list_median(num_list):\n",
        "    num_list.sort()\n",
        "    print(num_list)\n",
        "    n=len(num_list)\n",
        "    print(\"Total :\",n)\n",
        "    mid=n//2\n",
        "    print(\"Mid:\",mid)\n",
        "    if (n%2==1):\n",
        "        return num_list[mid]\n",
        "    else:\n",
        "        return (num_list[mid-1]+num_list[mid])/2\n",
        " \n",
        "def list_mode(num_list):\n",
        "    num_list.sort()\n",
        "    temp=[]\n",
        "    i=0\n",
        "    while i<len(num_list):\n",
        "        temp.append(num_list.count(num_list[i]))\n",
        "        i+=1\n",
        "    dic=dict(zip(num_list,temp))\n",
        "    mode={k for (k,v) in dic.items() if v==max(temp)}\n",
        "    return mode\n",
        " \n",
        "lst=[1,1,2,2,3,4,5,3,3]\n",
        " \n",
        "print(\"Given list is :\",lst)\n",
        "#print(\"Mean of given list:\",list_mean(lst))\n",
        "print(\"Median of given list:\",list_median(lst))\n",
        "print(\"Mode of given list:\",list_mode(lst))"
      ],
      "execution_count": null,
      "outputs": [
        {
          "output_type": "stream",
          "text": [
            "Given list is : [1, 1, 2, 2, 3, 4, 5, 3, 3]\n",
            "[1, 1, 2, 2, 3, 3, 3, 4, 5]\n",
            "Total : 9\n",
            "Mid: 4\n",
            "Median of given list: 3\n",
            "Mode of given list: {3}\n"
          ],
          "name": "stdout"
        }
      ]
    },
    {
      "cell_type": "markdown",
      "metadata": {
        "id": "dAgIT4O4r57F"
      },
      "source": [
        " EXERCISE - 9 Functions - Continued\n",
        " \n",
        "a) Write a function nearly equal to test whether two strings are nearly equal. Two strings a and bare nearly equal when a can be generated by a single mutation on b.\n",
        " \n",
        "b) Write a function dup to find all duplicates in the list.\n",
        " \n",
        "c) Write a function unique to find all the unique elements of a list."
      ]
    },
    {
      "cell_type": "code",
      "metadata": {
        "colab": {
          "base_uri": "https://localhost:8080/"
        },
        "id": "oHakKiwYr_c8",
        "outputId": "b89a62ef-8400-493d-d84a-81ff5314ca4b"
      },
      "source": [
        " \n",
        "#9.A\n",
        "def nearlyeq(str1,str2):\n",
        "    count=0\n",
        "    i=j=0\n",
        "    ss=0\n",
        "    while(i<len(str1)and j<len(str2)):\n",
        "        if(str1[i]!=str2[j]):\n",
        "            count+=1\n",
        "        if(len(str1)>len(str2)):\n",
        "            i+=1\n",
        " \n",
        "        elif(len(str1)==len(str2)):\n",
        "            pass\n",
        "        else:\n",
        "            i-=1     \n",
        "        if(count>1):\n",
        "             ss-=1\n",
        "             \n",
        "        i+=1\n",
        "        j+=1\n",
        "        if(count<2):\n",
        "             ss+=1\n",
        " \n",
        "    return ss\n",
        "s1=input(\"enter a string 1:\")\n",
        "s2=input(\"enter a string 2:\")\n",
        "t=nearlyeq(s1,s2)\n",
        "if(t>1):\n",
        "    print(\"Strings are nearly equal\")\n",
        "else:\n",
        "    print(\"Strings are not nearly equal\")"
      ],
      "execution_count": null,
      "outputs": [
        {
          "output_type": "stream",
          "text": [
            "enter a string 1:Hindi\n",
            "enter a string 2:Hindu\n",
            "Strings are nearly equal\n"
          ],
          "name": "stdout"
        }
      ]
    },
    {
      "cell_type": "code",
      "metadata": {
        "colab": {
          "base_uri": "https://localhost:8080/"
        },
        "id": "0icENGDhsgjj",
        "outputId": "f380c614-6467-4d3a-824f-14be4a0ac992"
      },
      "source": [
        "#9.B\n",
        "def dup(list):\n",
        "  list1=[]\n",
        "  for i in list:\n",
        "    count=list.count(i)\n",
        "    if(count>1 and (i not in list1)):\n",
        "        list1.append(i)\n",
        "        \n",
        "  print(\"The duplicates in the list are:\",list1)        \n",
        "list2=[1,2,1,2,5,9,7,5]\n",
        " \n",
        "dup(list2)"
      ],
      "execution_count": null,
      "outputs": [
        {
          "output_type": "stream",
          "text": [
            "The duplicates in the list are: [1, 2, 5]\n"
          ],
          "name": "stdout"
        }
      ]
    },
    {
      "cell_type": "code",
      "metadata": {
        "colab": {
          "base_uri": "https://localhost:8080/"
        },
        "id": "w_MGBSBisyf1",
        "outputId": "a6aa5166-fd96-42f5-cc69-5c6afe6cb90d"
      },
      "source": [
        "#9.C\n",
        "def unique(list1):\n",
        "  list2={}\n",
        " \n",
        "  for i in list1:\n",
        "    c=list1.count(i)\n",
        "    if c==1:\n",
        "      list2[i]=c\n",
        "  print(\"the unique elements in the list are:\",list2)\n",
        " \n",
        "list=[1,2,3,45,45,6,88,88,9]\n",
        "unique(list)"
      ],
      "execution_count": null,
      "outputs": [
        {
          "output_type": "stream",
          "text": [
            "the unique elements in the list are: {1: 1, 2: 1, 3: 1, 6: 1, 9: 1}\n"
          ],
          "name": "stdout"
        }
      ]
    },
    {
      "cell_type": "markdown",
      "metadata": {
        "id": "IU6UxDg9tDCm"
      },
      "source": [
        "EXERCISE - 10 - Functions - Problem Solving\n",
        " \n",
        "a) Write a function cumulative product to compute cumulative product of a list of numbers.\n",
        " \n",
        "b) Write a function reverse to reverse a list. Without using the reverse function.\n",
        " \n",
        "c) Write function to compute gcd, lcm of two numbers. Each function shouldn’t exceed one line"
      ]
    },
    {
      "cell_type": "code",
      "metadata": {
        "id": "xrW33PqltGcJ",
        "colab": {
          "base_uri": "https://localhost:8080/"
        },
        "outputId": "86076e9b-317a-4452-c7f3-10f00dcc3acc"
      },
      "source": [
        "\n",
        "#10.A\n",
        "def cum_prod(numlist):\n",
        "    prod=1\n",
        "    temp=[]\n",
        "   \n",
        "    for i in numlist:\n",
        "        prod*=i\n",
        "        temp.append(prod)\n",
        "    return temp\n",
        "lst=[1,2,4,5,3]\n",
        " \n",
        "print(\"Given list is :\",lst)\n",
        "print(\"Cumulative Product List is :\",cum_prod(lst))"
      ],
      "execution_count": null,
      "outputs": [
        {
          "output_type": "stream",
          "text": [
            "Given list is : [1, 2, 4, 5, 3]\n",
            "Cumulative Product List is : [1, 2, 8, 40, 120]\n"
          ],
          "name": "stdout"
        }
      ]
    },
    {
      "cell_type": "code",
      "metadata": {
        "colab": {
          "base_uri": "https://localhost:8080/"
        },
        "id": "S_C53Szbtbmu",
        "outputId": "90422c44-d09b-4afa-b7e6-ff5922aee0e7"
      },
      "source": [
        " \n",
        "#10.B\n",
        "def reverse_list(numlist):\n",
        "    i=0\n",
        "    j=len(numlist)-1\n",
        "    while (i<=j):\n",
        "      temp=numlist[i]\n",
        "      numlist[i]=numlist[j]\n",
        "      numlist[j]=temp\n",
        "      j-=1\n",
        "      i+=1\n",
        "    return numlist\n",
        "list1=[1,2,3,4]\n",
        "print(\"Given list is :\",list1)\n",
        "print(\"After Reverse Function:\",reverse_list(list1))\n",
        "print(\"After list is:\",list1)"
      ],
      "execution_count": null,
      "outputs": [
        {
          "output_type": "stream",
          "text": [
            "Given list is : [1, 2, 3, 4]\n",
            "After Reverse Function: [4, 3, 2, 1]\n",
            "After list is: [4, 3, 2, 1]\n"
          ],
          "name": "stdout"
        }
      ]
    },
    {
      "cell_type": "code",
      "metadata": {
        "colab": {
          "base_uri": "https://localhost:8080/"
        },
        "id": "EBIb-ZY5tu9Y",
        "outputId": "60b5d8c8-0260-41c5-8c82-790e77a160d9"
      },
      "source": [
        " \n",
        "#10.C\n",
        "gcd=lambda a,b: a if b==0 else gcd(a,a%b)\n",
        "lcm=lambda a,b: (a*b)/gcd(a,b)\n",
        " \n",
        "x=4\n",
        "y=24\n",
        "print(\"gcd=\",gcd(x,y))\n",
        "print(\"lcm=\",lcm(x,y))"
      ],
      "execution_count": null,
      "outputs": [
        {
          "output_type": "stream",
          "text": [
            "gcd= 4\n",
            "lcm= 24.0\n"
          ],
          "name": "stdout"
        }
      ]
    },
    {
      "cell_type": "markdown",
      "metadata": {
        "id": "3cJW2rnnbpls"
      },
      "source": [
        " EXERCISE-11 -MULTI-D-LISTS\n",
        " \n",
        "a)Write a program that defines a matrix and prints\n",
        " \n",
        "b)Write a program to perform addition of two square matrices\n",
        " \n",
        "c)Write a program to perform multiplication of two square matrices"
      ]
    },
    {
      "cell_type": "code",
      "metadata": {
        "colab": {
          "base_uri": "https://localhost:8080/"
        },
        "id": "cA9gOyuObtSg",
        "outputId": "973b840a-5293-4c44-8369-aea602a86d8b"
      },
      "source": [
        " \n",
        "#11. a\n",
        " \n",
        "matA=[[]]\n",
        "rows=int(input(\"Enter row size of matrix: \"))\n",
        "cols=int(input(\"Enter column size of matrix: \"))\n",
        "matA=[[int(input(\"Enter[%d,%d] value: \"%(i,j)))for j in range(cols)]for i in range(rows)]\n",
        "print(\"matrix is: \")\n",
        "for i in range(rows):\n",
        "  for j in range(cols):\n",
        "    print(matA[i][j],end='\\t')\n",
        "  print()"
      ],
      "execution_count": null,
      "outputs": [
        {
          "output_type": "stream",
          "text": [
            "Enter row size of matrix: 2\n",
            "Enter column size of matrix: 3\n",
            "Enter[0,0] value: 1\n",
            "Enter[0,1] value: 2\n",
            "Enter[0,2] value: 3\n",
            "Enter[1,0] value: 9\n",
            "Enter[1,1] value: 5\n",
            "Enter[1,2] value: 7\n",
            "matrix is: \n",
            "1\t2\t3\t\n",
            "9\t5\t7\t\n"
          ],
          "name": "stdout"
        }
      ]
    },
    {
      "cell_type": "code",
      "metadata": {
        "colab": {
          "base_uri": "https://localhost:8080/"
        },
        "id": "xAVuP-aucVcv",
        "outputId": "a533093f-160a-4c94-e594-577ba780aeb2"
      },
      "source": [
        " \n",
        "#11. b\n",
        " \n",
        " def matRead(r,c):\n",
        "  return[[int(input(\"[%d,%d]value:\"%(i,j)))for j in range(c)]for i in range(r)]\n",
        "def matDisp(mat,r,c):\n",
        "  for i in range(r):\n",
        "    for j in range(c):\n",
        "      print(mat[i][j],end='\\t')\n",
        "    print()\n",
        "matA=[[]]\n",
        "matB=[[]]       \n",
        "matSum=[[]]\n",
        "rows=int(input(\"Enter row size of the matrix: \"))\n",
        "cols=int(input(\"Enter column size of the matrix: \"))\n",
        "if rows==cols:\n",
        "  print(\"Enter Matrix-A elements: \")\n",
        "  matA=matRead(rows,cols)\n",
        " \n",
        "  print(\"Enter Matrix-B elements: \")\n",
        "  matB=matRead(rows,cols)\n",
        " \n",
        "  print(\"Matrix-A is: \")\n",
        "  matDisp(matA,rows,cols)\n",
        " \n",
        "  print(\"Matrix-B is: \")\n",
        "  matDisp(matB,rows,cols)\n",
        "  matSum=[[matA[i][j]+matB[i][j]for j in range(cols)]for i in range(rows)]\n",
        "  print(\"sum of matrices is: \")\n",
        "  matDisp(matSum,rows,cols)\n",
        "else:\n",
        "  print(\"Matrices addition is not possible\")"
      ],
      "execution_count": null,
      "outputs": [
        {
          "output_type": "stream",
          "text": [
            "Enter row size of the matrix: 3\n",
            "Enter column size of the matrix: 3\n",
            "Enter Matrix-A elements: \n",
            "[0,0]value:1\n",
            "[0,1]value:2\n",
            "[0,2]value:3\n",
            "[1,0]value:4\n",
            "[1,1]value:5\n",
            "[1,2]value:6\n",
            "[2,0]value:7\n",
            "[2,1]value:8\n",
            "[2,2]value:9\n",
            "Enter Matrix-B elements: \n",
            "[0,0]value:9\n",
            "[0,1]value:8\n",
            "[0,2]value:7\n",
            "[1,0]value:6\n",
            "[1,1]value:5\n",
            "[1,2]value:4\n",
            "[2,0]value:3\n",
            "[2,1]value:2\n",
            "[2,2]value:1\n",
            "Matrix-A is: \n",
            "1\t2\t3\t\n",
            "4\t5\t6\t\n",
            "7\t8\t9\t\n",
            "Matrix-B is: \n",
            "9\t8\t7\t\n",
            "6\t5\t4\t\n",
            "3\t2\t1\t\n",
            "sum of matrices is: \n",
            "10\t10\t10\t\n",
            "10\t10\t10\t\n",
            "10\t10\t10\t\n"
          ],
          "name": "stdout"
        }
      ]
    },
    {
      "cell_type": "code",
      "metadata": {
        "colab": {
          "base_uri": "https://localhost:8080/"
        },
        "id": "khgzMbGldXE0",
        "outputId": "ad9161bc-f551-4900-ecc4-ed4f5837ed34"
      },
      "source": [
        "#11. c\n",
        " \n",
        "def  matRead(r,c):  \n",
        "  return[[int(input(\"[%d,%d]value: \"%(i,j)))for j in range(c)]for i in range(r)]\n",
        "def matDisp(mat,r,c):\n",
        "  for i in range(r):\n",
        "    for j in range(c):\n",
        "      print(mat[i][j],end='\\t')\n",
        "matA=[[]]\n",
        "matB=[[]]\n",
        "matMul=[[]]\n",
        "rows=int(input(\"Enter row size of the Matrix: \"))\n",
        "cols=int(input(\"Enter column size of the Matrix: \"))\n",
        " \n",
        "if rows==cols:\n",
        "  print(\"Enter Matrix-A: \")\n",
        "  matA=matRead(rows,cols)\n",
        "  print(\" Enter Matrix-B: \")\n",
        "  matB=matRead(rows,cols)\n",
        " \n",
        "  matMul=[[0 for j in range(cols)]for i in range(rows)]\n",
        "  for i in range(rows):\n",
        "    for j in range(cols):\n",
        "      for k in range(cols):\n",
        "        matMul[i][j]+=matA[i][k]*matB[k][j]\n",
        "  print(\"Matrix-A is: \")\n",
        "  matDisp(matA,rows,cols)\n",
        " \n",
        "  print()\n",
        "  print(\"Matrix-B is: \")\n",
        "  matDisp(matB,rows,cols)\n",
        " \n",
        "  print ()\n",
        "  print(\"Multiplication of matrices is: \")\n",
        "  matDisp(matMul,rows,cols)\n",
        "else:\n",
        "  print(\"Matrices Multiplication is not possible \")"
      ],
      "execution_count": null,
      "outputs": [
        {
          "output_type": "stream",
          "text": [
            "Enter row size of the Matrix: 2\n",
            "Enter column size of the Matrix: 2\n",
            "Enter Matrix-A: \n",
            "[0,0]value: 2\n",
            "[0,1]value: 4\n",
            "[1,0]value: 6\n",
            "[1,1]value: 8\n",
            " Enter Matrix-B: \n",
            "[0,0]value: 1\n",
            "[0,1]value: 3\n",
            "[1,0]value: 5\n",
            "[1,1]value: 7\n",
            "Matrix-A is: \n",
            "2\t4\t6\t8\t\n",
            "Matrix-B is: \n",
            "1\t3\t5\t7\t\n",
            "Multiplication of matrices is: \n",
            "22\t34\t46\t74\t"
          ],
          "name": "stdout"
        }
      ]
    },
    {
      "cell_type": "markdown",
      "metadata": {
        "id": "CLoMJALPediI"
      },
      "source": [
        " EXERCISE-12 - MODULES\n",
        " \n",
        "a) Install package requests,flasks and explore them.using(pip)\n",
        " \n",
        "b) write a script that imports requests and fetch content from the page.Eg(wiki)\n",
        " \n",
        "c) write a simple script that serves a simple HTTPResponse and simple HTML page"
      ]
    },
    {
      "cell_type": "markdown",
      "metadata": {
        "id": "ABltjO0qq8fk"
      },
      "source": [
        "#12.a\n",
        " \n",
        "The requests and flask packages are download from internet using the following commands.\n",
        " \n",
        "C:\\python3.9\\scripts>pip install requests\n",
        " \n",
        "C:\\python3.9\\scripts>pip show requests\n",
        " \n",
        "C:\\python3.9\\scripts>pip install flask\n",
        " \n",
        "C:\\python3.9\\scripts>pip show flask"
      ]
    },
    {
      "cell_type": "code",
      "metadata": {
        "colab": {
          "base_uri": "https://localhost:8080/"
        },
        "id": "Q9xJEZ80rErq",
        "outputId": "3a3514c6-a4e9-4caa-b4d8-101a1f035c90"
      },
      "source": [
        "#12.b\n",
        " \n",
        "import requests\n",
        " \n",
        "r=requests.get('https://www.google.com')\n",
        " \n",
        "print(\"Statuscode:\",r.status_code)\n",
        " \n",
        "print(\"Header Content:\",r.headers['content-type'])\n",
        "print(r.text)"
      ],
      "execution_count": null,
      "outputs": [
        {
          "output_type": "stream",
          "text": [
            "Statuscode: 200\n",
            "Header Content: text/html; charset=ISO-8859-1\n",
            "<!doctype html><html itemscope=\"\" itemtype=\"http://schema.org/WebPage\" lang=\"en\"><head><meta content=\"Search the world's information, including webpages, images, videos and more. Google has many special features to help you find exactly what you're looking for.\" name=\"description\"><meta content=\"noodp\" name=\"robots\"><meta content=\"text/html; charset=UTF-8\" http-equiv=\"Content-Type\"><meta content=\"/images/branding/googleg/1x/googleg_standard_color_128dp.png\" itemprop=\"image\"><title>Google</title><script nonce=\"GsBe/+e7g6f+oJR3jVS5ng==\">(function(){window.google={kEI:'z2v1YJj2M_-bwbkP0sKgkA0',kEXPI:'0,772215,1,530320,56873,954,755,4350,206,4804,2316,383,246,5,1354,4936,314,1122516,1197758,133,392,328984,51223,16115,17444,1953,9287,17572,4859,1361,9291,3028,4746,12834,4020,978,13228,3847,4192,6430,1142,13386,234,4283,2777,920,2371,2709,1593,1279,2212,239,291,149,1943,1983,214,4100,108,4012,2023,2297,14670,605,2622,2845,9,5597,6755,5096,7876,5037,1483,1924,908,2,941,6397,8927,432,3,1590,1,5444,149,10045,1278,966,1686,4,1528,2304,1236,5803,74,1983,2627,2014,4067,7434,2110,1714,3050,2658,4242,3114,31,13628,2305,638,37,1457,5586,3772,4048,1945,770,665,5824,2305,228,4094,19,3119,6,908,3,3541,1,5349,9361,1,1813,283,912,5992,10618,1908,2,1394,756,746,1,22,1281,1715,2,3036,21,2538,1,2,2,3612,627,4,32,4,2237,2,3148,4,401,282,442,342,255,55,4,192,2,240,62,255,2062,91,30,520,1780,1275,4578,1576,3,471,1647,1174,4002,547,3,1040,76,1084,1364,2118,1212,3,1712,290,1442,32,247,660,1343,1,231,1143,3709,2,835,3,123,3666,2,4,933,745,13,1447,2059,374,1,12,3,1,725,827,222,1897,228,252,214,1,8,28,1,8,24,1744,440,118,396,642,350,1,2,317,682,5,125,899,1510,109,316,470,85,57,268,129,119,647,18,39,101,190,149,417,330,87,836,285,341,8,375,1004,1068,241,475,2531,479,544,389,613,1,622,259,1276,2,943,658,2,5611524,194,32,220,58,1802831,4193460,520,2800696,882,444,1,2,80,1,1796,1,9,2,2551,1,889,795,2,561,1,4265,1,1,2,1331,3299,843,2609,155,17,13,72,139,4,2,20,2,169,13,19,46,5,39,96,548,29,2,2,1,2,1,2,2,7,4,1,2,2,2,2,2,2,312,41,513,186,1,1,158,3,2,2,2,2,2,4,2,3,3,233,36,21,1874750,22079951,2772895,93132,1146350,28975,338,3,2339,75,538,368,7,1876',kBL:'rUkx'};google.sn='webhp';google.kHL='en';})();(function(){\n",
            "var f=this||self;var h,k=[];function l(a){for(var b;a&&(!a.getAttribute||!(b=a.getAttribute(\"eid\")));)a=a.parentNode;return b||h}function m(a){for(var b=null;a&&(!a.getAttribute||!(b=a.getAttribute(\"leid\")));)a=a.parentNode;return b}\n",
            "function n(a,b,c,d,g){var e=\"\";c||-1!==b.search(\"&ei=\")||(e=\"&ei=\"+l(d),-1===b.search(\"&lei=\")&&(d=m(d))&&(e+=\"&lei=\"+d));d=\"\";!c&&f._cshid&&-1===b.search(\"&cshid=\")&&\"slh\"!==a&&(d=\"&cshid=\"+f._cshid);c=c||\"/\"+(g||\"gen_204\")+\"?atyp=i&ct=\"+a+\"&cad=\"+b+e+\"&zx=\"+Date.now()+d;/^http:/i.test(c)&&\"https:\"===window.location.protocol&&(google.ml&&google.ml(Error(\"a\"),!1,{src:c,glmm:1}),c=\"\");return c};h=google.kEI;google.getEI=l;google.getLEI=m;google.ml=function(){return null};google.log=function(a,b,c,d,g){if(c=n(a,b,c,d,g)){a=new Image;var e=k.length;k[e]=a;a.onerror=a.onload=a.onabort=function(){delete k[e]};a.src=c}};google.logUrl=n;}).call(this);(function(){\n",
            "google.y={};google.sy=[];google.x=function(a,b){if(a)var c=a.id;else{do c=Math.random();while(google.y[c])}google.y[c]=[a,b];return!1};google.sx=function(a){google.sy.push(a)};google.lm=[];google.plm=function(a){google.lm.push.apply(google.lm,a)};google.lq=[];google.load=function(a,b,c){google.lq.push([[a],b,c])};google.loadAll=function(a,b){google.lq.push([a,b])};google.bx=!1;google.lx=function(){};}).call(this);google.f={};(function(){\n",
            "document.documentElement.addEventListener(\"submit\",function(b){var a;if(a=b.target){var c=a.getAttribute(\"data-submitfalse\");a=\"1\"==c||\"q\"==c&&!a.elements.q.value?!0:!1}else a=!1;a&&(b.preventDefault(),b.stopPropagation())},!0);document.documentElement.addEventListener(\"click\",function(b){var a;a:{for(a=b.target;a&&a!=document.documentElement;a=a.parentElement)if(\"A\"==a.tagName){a=\"1\"==a.getAttribute(\"data-nohref\");break a}a=!1}a&&b.preventDefault()},!0);}).call(this);</script><style>#gbar,#guser{font-size:13px;padding-top:1px !important;}#gbar{height:22px}#guser{padding-bottom:7px !important;text-align:right}.gbh,.gbd{border-top:1px solid #c9d7f1;font-size:1px}.gbh{height:0;position:absolute;top:24px;width:100%}@media all{.gb1{height:22px;margin-right:.5em;vertical-align:top}#gbar{float:left}}a.gb1,a.gb4{text-decoration:underline !important}a.gb1,a.gb4{color:#00c !important}.gbi .gb4{color:#dd8e27 !important}.gbf .gb4{color:#900 !important}\n",
            "</style><style>body,td,a,p,.h{font-family:arial,sans-serif}body{margin:0;overflow-y:scroll}#gog{padding:3px 8px 0}td{line-height:.8em}.gac_m td{line-height:17px}form{margin-bottom:20px}.h{color:#1558d6}em{font-weight:bold;font-style:normal}.lst{height:25px;width:496px}.gsfi,.lst{font:18px arial,sans-serif}.gsfs{font:17px arial,sans-serif}.ds{display:inline-box;display:inline-block;margin:3px 0 4px;margin-left:4px}input{font-family:inherit}body{background:#fff;color:#000}a{color:#4b11a8;text-decoration:none}a:hover,a:active{text-decoration:underline}.fl a{color:#1558d6}a:visited{color:#4b11a8}.sblc{padding-top:5px}.sblc a{display:block;margin:2px 0;margin-left:13px;font-size:11px}.lsbb{background:#f8f9fa;border:solid 1px;border-color:#dadce0 #70757a #70757a #dadce0;height:30px}.lsbb{display:block}#WqQANb a{display:inline-block;margin:0 12px}.lsb{background:url(/images/nav_logo229.png) 0 -261px repeat-x;border:none;color:#000;cursor:pointer;height:30px;margin:0;outline:0;font:15px arial,sans-serif;vertical-align:top}.lsb:active{background:#dadce0}.lst:focus{outline:none}</style><script nonce=\"GsBe/+e7g6f+oJR3jVS5ng==\"></script></head><body bgcolor=\"#fff\"><script nonce=\"GsBe/+e7g6f+oJR3jVS5ng==\">(function(){var src='/images/nav_logo229.png';var iesg=false;document.body.onload = function(){window.n && window.n();if (document.images){new Image().src=src;}\n",
            "if (!iesg){document.f&&document.f.q.focus();document.gbqf&&document.gbqf.q.focus();}\n",
            "}\n",
            "})();</script><div id=\"mngb\"><div id=gbar><nobr><b class=gb1>Search</b> <a class=gb1 href=\"https://www.google.com/imghp?hl=en&tab=wi\">Images</a> <a class=gb1 href=\"https://maps.google.com/maps?hl=en&tab=wl\">Maps</a> <a class=gb1 href=\"https://play.google.com/?hl=en&tab=w8\">Play</a> <a class=gb1 href=\"https://www.youtube.com/?gl=US&tab=w1\">YouTube</a> <a class=gb1 href=\"https://news.google.com/?tab=wn\">News</a> <a class=gb1 href=\"https://mail.google.com/mail/?tab=wm\">Gmail</a> <a class=gb1 href=\"https://drive.google.com/?tab=wo\">Drive</a> <a class=gb1 style=\"text-decoration:none\" href=\"https://www.google.com/intl/en/about/products?tab=wh\"><u>More</u> &raquo;</a></nobr></div><div id=guser width=100%><nobr><span id=gbn class=gbi></span><span id=gbf class=gbf></span><span id=gbe></span><a href=\"http://www.google.com/history/optout?hl=en\" class=gb4>Web History</a> | <a  href=\"/preferences?hl=en\" class=gb4>Settings</a> | <a target=_top id=gb_70 href=\"https://accounts.google.com/ServiceLogin?hl=en&passive=true&continue=https://www.google.com/&ec=GAZAAQ\" class=gb4>Sign in</a></nobr></div><div class=gbh style=left:0></div><div class=gbh style=right:0></div></div><center><br clear=\"all\" id=\"lgpd\"><div id=\"lga\"><img alt=\"Google\" height=\"92\" src=\"/images/branding/googlelogo/1x/googlelogo_white_background_color_272x92dp.png\" style=\"padding:28px 0 14px\" width=\"272\" id=\"hplogo\"><br><br></div><form action=\"/search\" name=\"f\"><table cellpadding=\"0\" cellspacing=\"0\"><tr valign=\"top\"><td width=\"25%\">&nbsp;</td><td align=\"center\" nowrap=\"\"><input name=\"ie\" value=\"ISO-8859-1\" type=\"hidden\"><input value=\"en\" name=\"hl\" type=\"hidden\"><input name=\"source\" type=\"hidden\" value=\"hp\"><input name=\"biw\" type=\"hidden\"><input name=\"bih\" type=\"hidden\"><div class=\"ds\" style=\"height:32px;margin:4px 0\"><input class=\"lst\" style=\"margin:0;padding:5px 8px 0 6px;vertical-align:top;color:#000\" autocomplete=\"off\" value=\"\" title=\"Google Search\" maxlength=\"2048\" name=\"q\" size=\"57\"></div><br style=\"line-height:0\"><span class=\"ds\"><span class=\"lsbb\"><input class=\"lsb\" value=\"Google Search\" name=\"btnG\" type=\"submit\"></span></span><span class=\"ds\"><span class=\"lsbb\"><input class=\"lsb\" id=\"tsuid1\" value=\"I'm Feeling Lucky\" name=\"btnI\" type=\"submit\"><script nonce=\"GsBe/+e7g6f+oJR3jVS5ng==\">(function(){var id='tsuid1';document.getElementById(id).onclick = function(){if (this.form.q.value){this.checked = 1;if (this.form.iflsig)this.form.iflsig.disabled = false;}\n",
            "else top.location='/doodles/';};})();</script><input value=\"AINFCbYAAAAAYPV533KOSSuXzQIoSI6wx0tSIlcvDv8_\" name=\"iflsig\" type=\"hidden\"></span></span></td><td class=\"fl sblc\" align=\"left\" nowrap=\"\" width=\"25%\"><a href=\"/advanced_search?hl=en&amp;authuser=0\">Advanced search</a></td></tr></table><input id=\"gbv\" name=\"gbv\" type=\"hidden\" value=\"1\"><script nonce=\"GsBe/+e7g6f+oJR3jVS5ng==\">(function(){\n",
            "var a,b=\"1\";if(document&&document.getElementById)if(\"undefined\"!=typeof XMLHttpRequest)b=\"2\";else if(\"undefined\"!=typeof ActiveXObject){var c,d,e=[\"MSXML2.XMLHTTP.6.0\",\"MSXML2.XMLHTTP.3.0\",\"MSXML2.XMLHTTP\",\"Microsoft.XMLHTTP\"];for(c=0;d=e[c++];)try{new ActiveXObject(d),b=\"2\"}catch(h){}}a=b;if(\"2\"==a&&-1==location.search.indexOf(\"&gbv=2\")){var f=google.gbvu,g=document.getElementById(\"gbv\");g&&(g.value=a);f&&window.setTimeout(function(){location.href=f},0)};}).call(this);</script></form><div id=\"gac_scont\"></div><div style=\"font-size:83%;min-height:3.5em\"><br></div><span id=\"footer\"><div style=\"font-size:10pt\"><div style=\"margin:19px auto;text-align:center\" id=\"WqQANb\"><a href=\"/intl/en/ads/\">Advertising Programs</a><a href=\"/services/\">Business Solutions</a><a href=\"/intl/en/about.html\">About Google</a></div></div><p style=\"font-size:8pt;color:#70757a\">&copy; 2021 - <a href=\"/intl/en/policies/privacy/\">Privacy</a> - <a href=\"/intl/en/policies/terms/\">Terms</a></p></span></center><script nonce=\"GsBe/+e7g6f+oJR3jVS5ng==\">(function(){window.google.cdo={height:757,width:1440};(function(){\n",
            "var a=window.innerWidth,b=window.innerHeight;if(!a||!b){var c=window.document,d=\"CSS1Compat\"==c.compatMode?c.documentElement:c.body;a=d.clientWidth;b=d.clientHeight}a&&b&&(a!=google.cdo.width||b!=google.cdo.height)&&google.log(\"\",\"\",\"/client_204?&atyp=i&biw=\"+a+\"&bih=\"+b+\"&ei=\"+google.kEI);}).call(this);})();</script> <script nonce=\"GsBe/+e7g6f+oJR3jVS5ng==\">(function(){google.xjs={ck:'',cs:'',excm:[],pml:false};})();</script>  <script nonce=\"GsBe/+e7g6f+oJR3jVS5ng==\">(function(){var u='/xjs/_/js/k\\x3dxjs.hp.en_US.uG5gNub4OSM.O/m\\x3dsb_he,d/am\\x3dAHgCLA/d\\x3d1/ed\\x3d1/rs\\x3dACT90oE5mpOHNMzK1ifCe0jZfTofWVvTxQ';\n",
            "var e=this||self,f=function(a){return a};var g;var l=function(a,b){this.g=b===h?a:\"\"};l.prototype.toString=function(){return this.g+\"\"};var h={};function m(){var a=u;google.lx=function(){n(a);google.lx=function(){}};google.bx||google.lx()}\n",
            "function n(a){google.timers&&google.timers.load&&google.tick&&google.tick(\"load\",\"xjsls\");var b=document;var c=\"SCRIPT\";\"application/xhtml+xml\"===b.contentType&&(c=c.toLowerCase());c=b.createElement(c);if(void 0===g){b=null;var k=e.trustedTypes;if(k&&k.createPolicy){try{b=k.createPolicy(\"goog#html\",{createHTML:f,createScript:f,createScriptURL:f})}catch(p){e.console&&e.console.error(p.message)}g=b}else g=b}a=(b=g)?b.createScriptURL(a):a;a=new l(a,h);c.src=a instanceof l&&a.constructor===l?a.g:\"type_error:TrustedResourceUrl\";var d;a=(c.ownerDocument&&c.ownerDocument.defaultView||window).document;(d=(a=null===(d=a.querySelector)||void 0===d?void 0:d.call(a,\"script[nonce]\"))?a.nonce||a.getAttribute(\"nonce\")||\"\":\"\")&&c.setAttribute(\"nonce\",d);document.body.appendChild(c);google.psa=!0};setTimeout(function(){m()},0);})();(function(){window.google.xjsu='/xjs/_/js/k\\x3dxjs.hp.en_US.uG5gNub4OSM.O/m\\x3dsb_he,d/am\\x3dAHgCLA/d\\x3d1/ed\\x3d1/rs\\x3dACT90oE5mpOHNMzK1ifCe0jZfTofWVvTxQ';})();function _DumpException(e){throw e;}\n",
            "function _F_installCss(c){}\n",
            "(function(){google.jl={attn:false,blt:'none',chnk:0,dw:false,emtn:0,end:0,ine:false,lls:'default',pdt:0,rep:0,snet:true,strt:0,ubm:false,uwp:true};})();(function(){var pmc='{\\x22d\\x22:{},\\x22sb_he\\x22:{\\x22agen\\x22:true,\\x22cgen\\x22:true,\\x22client\\x22:\\x22heirloom-hp\\x22,\\x22dh\\x22:true,\\x22dhqt\\x22:true,\\x22ds\\x22:\\x22\\x22,\\x22ffql\\x22:\\x22en\\x22,\\x22fl\\x22:true,\\x22host\\x22:\\x22google.com\\x22,\\x22isbh\\x22:28,\\x22jsonp\\x22:true,\\x22msgs\\x22:{\\x22cibl\\x22:\\x22Clear Search\\x22,\\x22dym\\x22:\\x22Did you mean:\\x22,\\x22lcky\\x22:\\x22I\\\\u0026#39;m Feeling Lucky\\x22,\\x22lml\\x22:\\x22Learn more\\x22,\\x22oskt\\x22:\\x22Input tools\\x22,\\x22psrc\\x22:\\x22This search was removed from your \\\\u003Ca href\\x3d\\\\\\x22/history\\\\\\x22\\\\u003EWeb History\\\\u003C/a\\\\u003E\\x22,\\x22psrl\\x22:\\x22Remove\\x22,\\x22sbit\\x22:\\x22Search by image\\x22,\\x22srch\\x22:\\x22Google Search\\x22},\\x22ovr\\x22:{},\\x22pq\\x22:\\x22\\x22,\\x22refpd\\x22:true,\\x22rfs\\x22:[],\\x22sbas\\x22:\\x220 3px 8px 0 rgba(0,0,0,0.2),0 0 0 1px rgba(0,0,0,0.08)\\x22,\\x22sbpl\\x22:16,\\x22sbpr\\x22:16,\\x22scd\\x22:10,\\x22stok\\x22:\\x22vIATf6wSb_z2YKc9OLQg5ChOtI0\\x22,\\x22uhde\\x22:false}}';google.pmc=JSON.parse(pmc);})();</script>        </body></html>\n"
          ],
          "name": "stdout"
        }
      ]
    },
    {
      "cell_type": "code",
      "metadata": {
        "colab": {
          "base_uri": "https://localhost:8080/"
        },
        "id": "ig1wKnr7rS60",
        "outputId": "3d7a6762-5c07-4774-99ee-cb6b79323c52"
      },
      "source": [
        "#12.c\n",
        " \n",
        "from flask import Flask,render_template\n",
        "app=Flask(__name__)\n",
        "print(app)\n",
        "@app.route(\"/\")\n",
        "def main():\n",
        "  return render_template('login.html')\n",
        "  if __name__==\"__main__\": \n",
        "    app.run(host=\"127.0.0.1\",port=2500)"
      ],
      "execution_count": null,
      "outputs": [
        {
          "output_type": "stream",
          "text": [
            "<Flask '__main__'>\n"
          ],
          "name": "stdout"
        }
      ]
    },
    {
      "cell_type": "markdown",
      "metadata": {
        "id": "zoXPJrtxfC83"
      },
      "source": [
        "EXERCISE-13 - OOP\n",
        " \n",
        "a) Class variables and instance variable and illustration of the self-variable\n",
        " \n",
        "i) Robot\n",
        "\n",
        "ii) ATM Machine"
      ]
    },
    {
      "cell_type": "code",
      "metadata": {
        "colab": {
          "base_uri": "https://localhost:8080/"
        },
        "id": "bRCPsUXGeuYe",
        "outputId": "f33bec4e-0c43-4901-ab08-dff5072156cd"
      },
      "source": [
        "#13.a(i)\n",
        "class Robot:\n",
        "    what=\"Machine\"\n",
        "    name=\"Chitti\"\n",
        "    version=1.0\n",
        "    speed=\"1THz\"\n",
        "    memory=\"1ZB\"\n",
        " \n",
        "    def update(upd):\n",
        "        upd.version=2.0\n",
        "        upd.speed=\"2THz\"\n",
        "        upd.memory=\"2ZB\"\n",
        " \n",
        "    def disp(self):\n",
        "        print(\"Myself is a\",robj.what)\n",
        "        print(\"MyName is a\",robj.name)\n",
        "        print(\"Version :\",robj.version)\n",
        "        print(\"Speed : \",robj.speed)\n",
        "        print(\"Memory: \",robj.memory)\n",
        " \n",
        "robj=Robot()\n",
        "robj.disp()\n",
        " \n",
        "print(\"---------------Update---------\")\n",
        "robj.update()\n",
        "robj.disp()"
      ],
      "execution_count": null,
      "outputs": [
        {
          "output_type": "stream",
          "text": [
            "Myself is a Machine\n",
            "MyName is a Chitti\n",
            "Version : 1.0\n",
            "Speed :  1THz\n",
            "Memory:  1ZB\n",
            "---------------Update---------\n",
            "Myself is a Machine\n",
            "MyName is a Chitti\n",
            "Version : 2.0\n",
            "Speed :  2THz\n",
            "Memory:  2ZB\n"
          ],
          "name": "stdout"
        }
      ]
    },
    {
      "cell_type": "code",
      "metadata": {
        "colab": {
          "base_uri": "https://localhost:8080/"
        },
        "id": "baAlcN14f2SM",
        "outputId": "aa18d763-a6d5-4e19-e6ef-b3e52d98a2e5"
      },
      "source": [
        " \n",
        "#13.a(ii)\n",
        "class ATM:\n",
        "    def __init__(self):\n",
        "        self.balance=0\n",
        "        print(\"New Account\")\n",
        "        \n",
        "    def enquire(self):\n",
        "        print(\"Balance: \",self.balance)\n",
        "        \n",
        "    def deposit(self):\n",
        "        amount=int(input(\"Enter the Deposit Amount:\"))\n",
        "        self.balance+=amount\n",
        "        self.enquire()\n",
        " \n",
        "    def withdraw(self):\n",
        "        amount=int(input(\"Enter the Withdraw Amount: \"))\n",
        "        if self.balance<amount:\n",
        "            print(\"Insufficient Balance.....!\")\n",
        "        else:\n",
        "            self.balance-=amount\n",
        "            self.enquire()\n",
        " \n",
        "aobj=ATM()\n",
        "while(True):\n",
        "    print(\"*****Menu****\")\n",
        "    print(\"1.Deposit\")\n",
        "    print(\"2.Withdarw\")\n",
        "    print(\"3.Balance\")\n",
        "    print(\"0.Exit\")\n",
        "    ch=int(input(\"Enter Your Choice: \"))\n",
        "    if ch==0:\n",
        "        break\n",
        "    elif ch==1:\n",
        "        aobj.deposit()\n",
        "    elif ch==2:\n",
        "        aobj.withdraw()\n",
        "    elif ch==3:\n",
        "        aobj.enquire()\n",
        "    else:\n",
        "        print(\"Invalid choice:\")\n",
        "        pass"
      ],
      "execution_count": null,
      "outputs": [
        {
          "output_type": "stream",
          "text": [
            "New Account\n",
            "*****Menu****\n",
            "1.Deposit\n",
            "2.Withdarw\n",
            "3.Balance\n",
            "0.Exit\n",
            "Enter Your Choice: 1\n",
            "Enter the Deposit Amount:1000\n",
            "Balance:  1000\n",
            "*****Menu****\n",
            "1.Deposit\n",
            "2.Withdarw\n",
            "3.Balance\n",
            "0.Exit\n",
            "Enter Your Choice: 2\n",
            "Enter the Withdraw Amount: 1500\n",
            "Insufficient Balance.....!\n",
            "*****Menu****\n",
            "1.Deposit\n",
            "2.Withdarw\n",
            "3.Balance\n",
            "0.Exit\n",
            "Enter Your Choice: 1\n",
            "Enter the Deposit Amount:1500\n",
            "Balance:  2500\n",
            "*****Menu****\n",
            "1.Deposit\n",
            "2.Withdarw\n",
            "3.Balance\n",
            "0.Exit\n",
            "Enter Your Choice: 2\n",
            "Enter the Withdraw Amount: 2000\n",
            "Balance:  500\n",
            "*****Menu****\n",
            "1.Deposit\n",
            "2.Withdarw\n",
            "3.Balance\n",
            "0.Exit\n",
            "Enter Your Choice: 0\n"
          ],
          "name": "stdout"
        }
      ]
    },
    {
      "cell_type": "markdown",
      "metadata": {
        "id": "2pu4skqWgWXy"
      },
      "source": [
        " EXERCISE-14 - GUI, GRAPHICS\n",
        " \n",
        " \n",
        "a) Write a GUI for an Expression Calculator using tk\n",
        " \n",
        "b) Write a program to implement the following figures using turtle"
      ]
    },
    {
      "cell_type": "code",
      "metadata": {
        "id": "KSV8zGs6jVZR"
      },
      "source": [
        " #14.a\n",
        "\n",
        "from tkinter import *\n",
        "\n",
        "win = Tk() # to create a basic window\n",
        "win.geometry(\"312x324\")  #for the size of the window \n",
        "win.resizable(0, 0)  # to prevent from resizing the window\n",
        "win.title(\"Calculator\")\n",
        "\n",
        "# 'btn_click' Function continuously updates the \n",
        "# input field whenever you enters a number\n",
        "\n",
        "def btn_click(item):\n",
        "    global expression\n",
        "    expression = expression + str(item)\n",
        "    input_text.set(expression)\n",
        "\n",
        "# 'bt_clear' function : used to clear the input field\n",
        "\n",
        "def bt_clear(): \n",
        "    global expression \n",
        "    expression = \"\"\n",
        "    input_text.set(\"\")\n",
        "\n",
        "# 'bt_equal':calculates the expression present in input field\n",
        "\n",
        "def bt_equal():\n",
        "    global expression\n",
        "    result = str(eval(expression)) # 'eval':This function is used to evaluates the string expression directly\n",
        "    input_text.set(result)\n",
        "    expression = \"\"\n",
        "\n",
        "expression = \"\"\n",
        "\n",
        "# 'StringVar()' :used to get the instance of input field\n",
        "\n",
        "input_text = StringVar()\n",
        "\n",
        "# creating a frame for the input field\n",
        "\n",
        "input_frame = Frame(win, width=312, height=50, bd=0, highlightbackground=\"black\", highlightcolor=\"black\", highlightthickness=2)\n",
        "\n",
        "input_frame.pack(side=TOP)\n",
        "\n",
        "#create a input field inside the 'Frame'\n",
        "\n",
        "input_field = Entry(input_frame, font=('arial', 18, 'bold'), textvariable=input_text, width=50, bg=\"#eee\", bd=0, justify=RIGHT)\n",
        "\n",
        "input_field.grid(row=0, column=0)\n",
        "\n",
        "input_field.pack(ipady=10)\n",
        "# 'ipady' is internal padding to increase the height of input field\n",
        "\n",
        "#creating another 'Frame' for the button below the 'input_frame'\n",
        "\n",
        "btns_frame = Frame(win, width=312, height=272.5, bg=\"grey\")\n",
        "\n",
        "btns_frame.pack()\n",
        "\n",
        "# first row\n",
        "\n",
        "clear = Button(btns_frame, text = \"C\", fg = \"black\", width = 32, height = 3, bd = 0, bg = \"#eee\", cursor = \"hand2\", command = lambda: bt_clear()).grid(row = 0, column = 0, columnspan = 3, padx = 1, pady = 1)\n",
        "\n",
        "divide = Button(btns_frame, text = \"/\", fg = \"black\", width = 10, height = 3, bd = 0, bg = \"#eee\", cursor = \"hand2\", command = lambda: btn_click(\"/\")).grid(row = 0, column = 3, padx = 1, pady = 1)\n",
        "\n",
        "# second row\n",
        "\n",
        "seven = Button(btns_frame, text = \"7\", fg = \"black\", width = 10, height = 3, bd = 0, bg = \"#fff\", cursor = \"hand2\", command = lambda: btn_click(7)).grid(row = 1, column = 0, padx = 1, pady = 1)\n",
        "\n",
        "eight = Button(btns_frame, text = \"8\", fg = \"black\", width = 10, height = 3, bd = 0, bg = \"#fff\", cursor = \"hand2\", command = lambda: btn_click(8)).grid(row = 1, column = 1, padx = 1, pady = 1)\n",
        "\n",
        "nine = Button(btns_frame, text = \"9\", fg = \"black\", width = 10, height = 3, bd = 0, bg = \"#fff\", cursor = \"hand2\", command = lambda: btn_click(9)).grid(row = 1, column = 2, padx = 1, pady = 1)\n",
        "\n",
        "multiply = Button(btns_frame, text = \"*\", fg = \"black\", width = 10, height = 3, bd = 0, bg = \"#eee\", cursor = \"hand2\", command = lambda: btn_click(\"*\")).grid(row = 1, column = 3, padx = 1, pady = 1)\n",
        "\n",
        "# third row\n",
        "\n",
        "four = Button(btns_frame, text = \"4\", fg = \"black\", width = 10, height = 3, bd = 0, bg = \"#fff\", cursor = \"hand2\", command = lambda: btn_click(4)).grid(row = 2, column = 0, padx = 1, pady = 1)\n",
        "\n",
        "five = Button(btns_frame, text = \"5\", fg = \"black\", width = 10, height = 3, bd = 0, bg = \"#fff\", cursor = \"hand2\", command = lambda: btn_click(5)).grid(row = 2, column = 1, padx = 1, pady = 1)\n",
        "\n",
        "six = Button(btns_frame, text = \"6\", fg = \"black\", width = 10, height = 3, bd = 0, bg = \"#fff\", cursor = \"hand2\", command = lambda: btn_click(6)).grid(row = 2, column = 2, padx = 1, pady = 1)\n",
        "\n",
        "minus = Button(btns_frame, text = \"-\", fg = \"black\", width = 10, height = 3, bd = 0, bg = \"#eee\", cursor = \"hand2\", command = lambda: btn_click(\"-\")).grid(row = 2, column = 3, padx = 1, pady = 1)\n",
        "\n",
        "# fourth row\n",
        "\n",
        "one = Button(btns_frame, text = \"1\", fg = \"black\", width = 10, height = 3, bd = 0, bg = \"#fff\", cursor = \"hand2\", command = lambda: btn_click(1)).grid(row = 3, column = 0, padx = 1, pady = 1)\n",
        "\n",
        "two = Button(btns_frame, text = \"2\", fg = \"black\", width = 10, height = 3, bd = 0, bg = \"#fff\", cursor = \"hand2\", command = lambda: btn_click(2)).grid(row = 3, column = 1, padx = 1, pady = 1)\n",
        "\n",
        "three = Button(btns_frame, text = \"3\", fg = \"black\", width = 10, height = 3, bd = 0, bg = \"#fff\", cursor = \"hand2\", command = lambda: btn_click(3)).grid(row = 3, column = 2, padx = 1, pady = 1)\n",
        "\n",
        "plus = Button(btns_frame, text = \"+\", fg = \"black\", width = 10, height = 3, bd = 0, bg = \"#eee\", cursor = \"hand2\", command = lambda: btn_click(\"+\")).grid(row = 3, column = 3, padx = 1, pady = 1)\n",
        "\n",
        "# fifth row\n",
        "\n",
        "zero = Button(btns_frame, text = \"0\", fg = \"black\", width = 21, height = 3, bd = 0, bg = \"#fff\", cursor = \"hand2\", command = lambda: btn_click(0)).grid(row = 4, column = 0, columnspan = 2, padx = 1, pady = 1)\n",
        "\n",
        "point = Button(btns_frame, text = \".\", fg = \"black\", width = 10, height = 3, bd = 0, bg = \"#eee\", cursor = \"hand2\", command = lambda: btn_click(\".\")).grid(row = 4, column = 2, padx = 1, pady = 1)\n",
        "\n",
        "equals = Button(btns_frame, text = \"=\", fg = \"black\", width = 10, height = 3, bd = 0, bg = \"#eee\", cursor = \"hand2\", command = lambda: bt_equal()).grid(row = 4, column = 3, padx = 1, pady = 1)\n",
        "\n",
        "win.mainloop()"
      ],
      "execution_count": null,
      "outputs": []
    },
    {
      "cell_type": "code",
      "metadata": {
        "id": "nW8QyRRSiqWh"
      },
      "source": [
        " \n",
        "#14.b\n",
        " \n",
        "#figure1\n",
        "import turtle\n",
        "c=[\"red\", \"green\" \"blue\"]\n",
        "i=0\n",
        "turtle.pensize(5)\n",
        "for angle in range(0, 360,30) :\n",
        "    if i>2: \n",
        "        i=0\n",
        "    turtle.color([i]) \n",
        "    turtle.seth(angle)\n",
        "    turtle.circle(50)\n",
        "    i+=1"
      ],
      "execution_count": null,
      "outputs": []
    },
    {
      "cell_type": "code",
      "metadata": {
        "id": "Wgbhx3cgmI_x"
      },
      "source": [
        "#figure2\n",
        "import turtle    \n",
        "turtle.pensize(1)\n",
        "for i in range(36):\n",
        "  for j in range(4):\n",
        "       turtle.forward(70)\n",
        "       turtle.left(90)\n",
        "  turtle.left(10)"
      ],
      "execution_count": null,
      "outputs": []
    },
    {
      "cell_type": "markdown",
      "metadata": {
        "id": "0TEcdo_IhAcn"
      },
      "source": [
        " EXERCISE-15 - Testing\n",
        " \n",
        "a) Write a test-case to check the function even numbers which return True on passing a list of all even numbers\n",
        " \n",
        "b) Write a test-case to check the function reverse string which returns the reversed string"
      ]
    },
    {
      "cell_type": "code",
      "metadata": {
        "colab": {
          "base_uri": "https://localhost:8080/"
        },
        "id": "46cbG9lVhKOt",
        "outputId": "94abc90b-7389-4c42-fe3a-caa279c857c2"
      },
      "source": [
        "#15.a\n",
        " \n",
        "def evnNo(num):\n",
        "    stat=True\n",
        " \n",
        "    for i in num:\n",
        "        if i%2 ==1:\n",
        "            stat=False\n",
        "            break\n",
        "    return stat\n",
        "        \n",
        "numbers=[]\n",
        "for i in range(0,2):\n",
        "    numbers.append(int(input(\"Enter a value :\")))\n",
        "print(evnNo(numbers))"
      ],
      "execution_count": null,
      "outputs": [
        {
          "output_type": "stream",
          "text": [
            "Enter a value :2\n",
            "Enter a value :8\n",
            "True\n"
          ],
          "name": "stdout"
        }
      ]
    },
    {
      "cell_type": "code",
      "metadata": {
        "colab": {
          "base_uri": "https://localhost:8080/"
        },
        "id": "HN0pzEUDhnam",
        "outputId": "16257e87-325a-47e1-b2b2-e52ded157680"
      },
      "source": [
        "#15.b - Method-1\n",
        " \n",
        "def rev_str(st):\n",
        "    temp=\"\"\n",
        "    for i in range(len(st)-1,-1,-1):\n",
        "        temp+=st[i]\n",
        "    return temp\n",
        " \n",
        "st=\"swarnandhra\"\n",
        "print(\"Given String is: \",st)\n",
        "print(\"Reverse String is: \",st[::-1])\n",
        "print(\"Reverse is: \",rev_str(st))"
      ],
      "execution_count": null,
      "outputs": [
        {
          "output_type": "stream",
          "text": [
            "Given String is:  swarnandhra\n",
            "Reverse String is:  arhdnanraws\n",
            "Reverse is:  arhdnanraws\n"
          ],
          "name": "stdout"
        }
      ]
    },
    {
      "cell_type": "code",
      "metadata": {
        "colab": {
          "base_uri": "https://localhost:8080/"
        },
        "id": "ai61SHNViI64",
        "outputId": "81bbc920-6ce0-44f6-9661-d130d37d9f95"
      },
      "source": [
        "#15.b - Method-2\n",
        " \n",
        "def rev_str(st):\n",
        "    return st[::-1]\n",
        " \n",
        "st=\"swarnandhra\"\n",
        "print(\"Given String is: \",st)\n",
        " \n",
        "print(\"Reverse is: \",rev_str(st))"
      ],
      "execution_count": null,
      "outputs": [
        {
          "output_type": "stream",
          "text": [
            "Given String is:  swarnandhra\n",
            "Reverse is:  arhdnanraws\n"
          ],
          "name": "stdout"
        }
      ]
    },
    {
      "cell_type": "markdown",
      "metadata": {
        "id": "C09VPPg6hypJ"
      },
      "source": [
        " EXERCISE-16 - Advanced\n",
        " \n",
        "a) Build any one classical data structure.\n",
        " \n",
        "b) Write a program to solve knapsack problem"
      ]
    },
    {
      "cell_type": "code",
      "metadata": {
        "id": "ljsHdkg9h8cR",
        "colab": {
          "base_uri": "https://localhost:8080/",
          "height": 868
        },
        "outputId": "b6d2e475-768d-4763-f88a-dc8b94cbcfba"
      },
      "source": [
        " \n",
        " \n",
        "#16.a\n",
        " \n",
        "import sys\n",
        "a=[]\n",
        " \n",
        "while True:\n",
        "  print (\"\\nl.PUSH 2.POP 3.DISPLAY 4.EXIT\")\n",
        "  ch=int(input(\"Enter Your Choice: \"))\n",
        "  if ch==1:\n",
        "   ele=int(input(\"Enter element: \"))\n",
        "   a.append(ele)\n",
        "   print(\"Inserted\")\n",
        "  elif ch==2:\n",
        "   if len(a)==0:\n",
        "     print (\"\\t STACK IS EMPTY\")\n",
        "   else:\n",
        "     print (\"Deleted element is: \",a[len(a)-1])\n",
        "     a.remove(a[len(a)-1])\n",
        "  elif ch==3:\n",
        "   if len(a)==0:\n",
        "     print (\"\\t STACK IS EMPTY\")\n",
        "   else:\n",
        "    print (\"The Elements in Stack is: \")\n",
        "    for i in reversed(a):\n",
        "       print(i)\n",
        "  elif ch==4:\n",
        "    sys.exit()\n",
        "  else:\n",
        "   print (\"\\tINVALID CHOICE\")"
      ],
      "execution_count": null,
      "outputs": [
        {
          "output_type": "stream",
          "text": [
            "\n",
            "l.PUSH 2.POP 3.DISPLAY 4.EXIT\n",
            "Enter Your Choice: 1\n",
            "Enter element: 9\n",
            "Inserted\n",
            "\n",
            "l.PUSH 2.POP 3.DISPLAY 4.EXIT\n",
            "Enter Your Choice: 1\n",
            "Enter element: 5\n",
            "Inserted\n",
            "\n",
            "l.PUSH 2.POP 3.DISPLAY 4.EXIT\n",
            "Enter Your Choice: 3\n",
            "The Elements in Stack is: \n",
            "5\n",
            "9\n",
            "\n",
            "l.PUSH 2.POP 3.DISPLAY 4.EXIT\n",
            "Enter Your Choice: 2\n",
            "Deleted element is:  5\n",
            "\n",
            "l.PUSH 2.POP 3.DISPLAY 4.EXIT\n",
            "Enter Your Choice: 3\n",
            "The Elements in Stack is: \n",
            "9\n",
            "\n",
            "l.PUSH 2.POP 3.DISPLAY 4.EXIT\n",
            "Enter Your Choice: 2\n",
            "Deleted element is:  9\n",
            "\n",
            "l.PUSH 2.POP 3.DISPLAY 4.EXIT\n",
            "Enter Your Choice: 2\n",
            "\t STACK IS EMPTY\n",
            "\n",
            "l.PUSH 2.POP 3.DISPLAY 4.EXIT\n",
            "Enter Your Choice: 3\n",
            "\t STACK IS EMPTY\n",
            "\n",
            "l.PUSH 2.POP 3.DISPLAY 4.EXIT\n",
            "Enter Your Choice: 4\n"
          ],
          "name": "stdout"
        },
        {
          "output_type": "error",
          "ename": "SystemExit",
          "evalue": "ignored",
          "traceback": [
            "An exception has occurred, use %tb to see the full traceback.\n",
            "\u001b[0;31mSystemExit\u001b[0m\n"
          ]
        },
        {
          "output_type": "stream",
          "text": [
            "/usr/local/lib/python3.7/dist-packages/IPython/core/interactiveshell.py:2890: UserWarning: To exit: use 'exit', 'quit', or Ctrl-D.\n",
            "  warn(\"To exit: use 'exit', 'quit', or Ctrl-D.\", stacklevel=1)\n"
          ],
          "name": "stderr"
        }
      ]
    },
    {
      "cell_type": "code",
      "metadata": {
        "colab": {
          "base_uri": "https://localhost:8080/"
        },
        "id": "zkuVejXVshqQ",
        "outputId": "a88ccd26-b125-4a2a-e5c9-bfd9d06b8fcb"
      },
      "source": [
        "#16.b\n",
        " \n",
        "def knapSack(W, wt, val, n):\n",
        "   K= [[0 for x in range(W+1)] for x in range(n+1)]\n",
        "   for i in range(n+1):\n",
        "     for w in range(W+1):\n",
        "       if i==0 or w==0:\n",
        "          K[i][w] = 0\n",
        "       elif wt[i-1]<=w:\n",
        "          K[i][w]= max(val[i-1]+K[i-1][w-wt[i-1]],K[i-1][w])\n",
        "       else:\n",
        "          K[i][w] = K[i-1][w]\n",
        "   return K[n][W]\n",
        "val = [5, 3, 4]\n",
        "wt = [3, 2, 1]\n",
        "W = 5\n",
        "n= len(val)\n",
        "print(\"Maximum value knapsack of capacity W: \", knapSack(W, wt,val,n))"
      ],
      "execution_count": null,
      "outputs": [
        {
          "output_type": "stream",
          "text": [
            "Maximum value knapsack of capacity W:  9\n"
          ],
          "name": "stdout"
        }
      ]
    },
    {
      "cell_type": "markdown",
      "metadata": {
        "id": "cIXWtTHv1mAt"
      },
      "source": [
        "EXERCISES-17 & 18 - Data Analysis\n",
        " \n",
        "Data analysis or manipulation using the following packages.\n",
        "a) Numpy\n",
        "b) Pandas\n",
        "c) Scipy\n",
        "d) matplotlib"
      ]
    },
    {
      "cell_type": "code",
      "metadata": {
        "colab": {
          "base_uri": "https://localhost:8080/"
        },
        "id": "0GQlsHZ11VjB",
        "outputId": "485839de-0eaf-4b42-e5b7-f39f3725904d"
      },
      "source": [
        " \n",
        " \n",
        "#Python version\n",
        " \n",
        "import sys\n",
        "print('Python: {}'.format(sys.version))\n",
        " \n",
        "#scipy\n",
        "import scipy\n",
        "print('scipy: {}'.format(scipy.__version__))\n",
        " \n",
        "# numpy\n",
        "import numpy\n",
        "print( 'numpy: {}'.format(numpy.__version__))\n",
        " \n",
        "# matplotlib\n",
        "import matplotlib\n",
        "print('matplotlib: {}'.format(matplotlib.__version__))\n",
        " \n",
        "# pandas\n",
        "import pandas\n",
        "print('pandas: {}'.format(pandas.__version__))\n",
        " \n",
        "#scikit-learn\n",
        "import sklearn\n",
        "print('sklearn: {}'.format(sklearn.__version__))\n",
        "import seaborn\n",
        "print('seaborn: {}'.format(seaborn.__version__))\n",
        "import urllib\n",
        "print('urlib: {}'.format(urllib.__name__))\n",
        "import csv\n",
        "print('csv: {}'.format(csv.__version__))"
      ],
      "execution_count": null,
      "outputs": [
        {
          "output_type": "stream",
          "text": [
            "Python: 3.7.11 (default, Jul  3 2021, 18:01:19) \n",
            "[GCC 7.5.0]\n",
            "scipy: 1.4.1\n",
            "numpy: 1.19.5\n",
            "matplotlib: 3.2.2\n",
            "pandas: 1.1.5\n",
            "sklearn: 0.22.2.post1\n",
            "seaborn: 0.11.1\n",
            "urlib: urllib\n",
            "csv: 1.0\n"
          ],
          "name": "stdout"
        }
      ]
    }
  ]
}